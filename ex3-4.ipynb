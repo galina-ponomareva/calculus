{
 "cells": [
  {
   "cell_type": "markdown",
   "metadata": {},
   "source": [
    "__3.__ Численно найти хотя бы один действительный корень системы нелинейных уравнений:\n",
    "### $$\\begin{cases}\n",
    "   x^2-y^2+3xy^3-2x^2y^2+2x-3y-5=0 \\\\\n",
    "   3y^3-2x^2+2x^3y-5x^2y^2+5=0\n",
    " \\end{cases}$$"
   ]
  },
  {
   "cell_type": "code",
   "execution_count": 55,
   "metadata": {},
   "outputs": [
    {
     "name": "stdout",
     "output_type": "stream",
     "text": [
      "[ 1.37568714 -0.17475799] 1\n"
     ]
    }
   ],
   "source": [
    "from scipy.optimize import fsolve\n",
    "import math\n",
    "\n",
    "def equations(p):\n",
    "    x, y = p\n",
    "    return (x**2-y**2+3*x*y**3-2*x**2*y**2+2*x-3*y-5,\n",
    "            3*y**3-2*x**2+2*x**3*y-5*x**2*y**2+5)\n",
    "\n",
    "x, info, ier, mesg = fsolve(equations, (1, 1), full_output=True)\n",
    "print (x, ier)"
   ]
  },
  {
   "cell_type": "markdown",
   "metadata": {},
   "source": [
    "__4*.__ Численно найти все $5$ действительных корней."
   ]
  },
  {
   "cell_type": "code",
   "execution_count": 56,
   "metadata": {},
   "outputs": [
    {
     "name": "stdout",
     "output_type": "stream",
     "text": [
      "[[1.37568714, -0.17475798], [1.27330206, 1.66203912], [2.49435653, 0.70831752], [2.21775363, 0.61019397], [-3.65307996, -0.27476341]]\n"
     ]
    }
   ],
   "source": [
    "import numpy as np\n",
    "\n",
    "def equations(p):\n",
    "    x, y = p\n",
    "    return (x**2-y**2+3*x*y**3-2*x**2*y**2+2*x-3*y-5,\n",
    "            3*y**3-2*x**2+2*x**3*y-5*x**2*y**2+5)\n",
    "\n",
    "def root_sort(list):\n",
    "    root_list = []\n",
    "    for i in list:\n",
    "        if i not in root_list:\n",
    "            root_list.append(i)\n",
    "    return root_list\n",
    "            \n",
    "roots = []\n",
    "for x in np.arange(-100, 100, 1).reshape(100,2):\n",
    "    x, info, ier, mesg =  fsolve(equations, x, full_output=True)\n",
    "    if ier == 1:\n",
    "        xi = int(x[0]*10**8)/10**8\n",
    "        yi = int(x[1]*10**8)/10**8\n",
    "        roots.append([xi, yi])\n",
    "        \n",
    "print(root_sort(roots))"
   ]
  },
  {
   "cell_type": "code",
   "execution_count": null,
   "metadata": {},
   "outputs": [],
   "source": []
  }
 ],
 "metadata": {
  "kernelspec": {
   "display_name": "Python 3",
   "language": "python",
   "name": "python3"
  },
  "language_info": {
   "codemirror_mode": {
    "name": "ipython",
    "version": 3
   },
   "file_extension": ".py",
   "mimetype": "text/x-python",
   "name": "python",
   "nbconvert_exporter": "python",
   "pygments_lexer": "ipython3",
   "version": "3.8.5"
  }
 },
 "nbformat": 4,
 "nbformat_minor": 4
}
