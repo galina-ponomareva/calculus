{
 "cells": [
  {
   "cell_type": "markdown",
   "metadata": {},
   "source": [
    "__4.__ Сформулируйте словесно высказывания:\n",
    "### $$a)\\,\\,\\, (\\overline A \\vee B) \\rightarrow \\overline C$$\n",
    "### $$б)\\,\\,\\, C \\rightarrow (A \\vee \\overline B)$$\n",
    "\n",
    "- $A:\\,\\,\\,$ сегодня светит солнце; \n",
    "- $B:\\,\\,\\,$ сегодня сыро; \n",
    "- $C:\\,\\,\\,$ я поеду на дачу. "
   ]
  },
  {
   "cell_type": "markdown",
   "metadata": {},
   "source": [
    "а) $\\overline A$: сегодня нет солнца;  \n",
    "$\\overline A \\vee B$: сегодня нет солнца или сегодня сыро;  \n",
    "$\\overline C$: я не поеду на дачу;\n",
    "\n",
    "$$(\\overline A \\vee B) \\rightarrow \\overline C$$\n",
    "\n",
    "Если сегодня не будет солнца или будет сыро, я не поеду на дачу."
   ]
  },
  {
   "cell_type": "markdown",
   "metadata": {},
   "source": [
    "а) $\\overline B$: сегодня сухо;  \n",
    "$A \\vee \\overline B$: сегодня светит солнце или сегодня сухо;  \n",
    "\n",
    "$$C \\rightarrow (A \\vee \\overline B)$$\n",
    "\n",
    "Если я поехал на дачу, значит сегодня светит солнце или сегодня сухо."
   ]
  },
  {
   "cell_type": "code",
   "execution_count": null,
   "metadata": {},
   "outputs": [],
   "source": []
  }
 ],
 "metadata": {
  "kernelspec": {
   "display_name": "Python 3",
   "language": "python",
   "name": "python3"
  },
  "language_info": {
   "codemirror_mode": {
    "name": "ipython",
    "version": 3
   },
   "file_extension": ".py",
   "mimetype": "text/x-python",
   "name": "python",
   "nbconvert_exporter": "python",
   "pygments_lexer": "ipython3",
   "version": "3.8.5"
  }
 },
 "nbformat": 4,
 "nbformat_minor": 4
}
