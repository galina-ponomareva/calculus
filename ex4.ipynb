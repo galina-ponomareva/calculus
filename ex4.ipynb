{
 "cells": [
  {
   "cell_type": "markdown",
   "metadata": {},
   "source": [
    "__4.__ Пользуясь критерием Коши, докажите сходимость последовательности:\n",
    "\n",
    "### $$a_n=\\frac{\\sin1}{2}+\\frac{\\sin2}{2^2}+\\frac{\\sin3}{2^3}+..\\frac{\\sin n}{2^n}\\,\\,\\,\\,\\,\\Rightarrow$$\n",
    "\n",
    "### $$\\Bigl\\{a_n\\Bigr\\}_{n=1}^\\infty=\\Bigl\\{\\frac{\\sin1}{2}, \\frac{\\sin1}{2}+\\frac{\\sin2}{2^2}, ..., a_n,...\\Bigr\\}$$\n",
    "\n",
    "\n",
    "$^*$ Какой член последовательности можно взять в качестве предела с точностью $\\varepsilon=10^{-7}$?"
   ]
  },
  {
   "cell_type": "markdown",
   "metadata": {},
   "source": [
    "Сделаем оценку сверху:\n",
    "$$|a_n-a_{n+k}|=|a_{n+k}-a_n|=$$\n",
    "\n",
    "$$=\\Bigl|\\frac{\\sin1}{2}+\\frac{\\sin2}{2^2}+...+\\frac{\\sin n}{2^n}+\\frac{\\sin(n+1)}{2^{n+1}}+...+\\frac{\\sin(n+k)}{2^{n+k}}-\\frac{\\sin1}{2}-\\frac{\\sin2}{2^2}-...-\\frac{\\sin n}{2^n}\\Bigr|=$$\n",
    "\n",
    "$$=\\Bigl|\\frac{\\sin(n+1)}{2^{n+1}}+...+\\frac{\\sin(n+k)}{2^{n+k}}\\Bigr|=\\frac{1}{2^n}\\Bigl|\\frac{\\sin(n+1)}{2}+...+\\frac{\\sin(n+k)}{2^k}\\Bigr|$$\n",
    "\n",
    "Так как sin лежит в интервале $[-1,1]$, получим\n",
    "\n",
    "$$\\frac{1}{2^n}\\Bigl|\\frac{\\sin(n+1)}{2}+...+\\frac{\\sin(n+k)}{2^k}\\Bigr|<\\frac{1}{2^n}\\Bigl|\\frac{1}{2}+...+\\frac{1}{2^k}\\Bigr|$$\n",
    "\n",
    "По формуле произведения бесконечной геометрической прогрессии\n",
    "\n",
    "$$\\frac{1}{2^n}\\Bigl|\\frac{1}{2}+...+\\frac{1}{2^k}\\Bigr|=\\frac{1}{2^n}\\Bigl|\\frac{\\frac{1}{2} \\cdot \\Bigl(\\frac{1}{2^k}-1\\Bigr)}{\\frac{1}{2}-1}\\Bigr|=\\frac{1}{2^n}\\Bigl(1-\\frac{1}{2^k}\\Bigr)<\\frac{1}{2^n}<\\frac{1}{2^{N(\\varepsilon)}}=\\varepsilon$$\n",
    "\n",
    "$$\\frac{1}{2^{N(\\varepsilon)}}=\\varepsilon \\,\\,\\,\\Rightarrow\\,\\,\\, 2^{N(\\varepsilon)}=\\frac{1}{\\varepsilon}\\,\\,\\,\\Rightarrow\\,\\,\\, N(\\varepsilon)=-\\log_2 \\varepsilon$$"
   ]
  },
  {
   "cell_type": "code",
   "execution_count": 4,
   "metadata": {},
   "outputs": [
    {
     "name": "stdout",
     "output_type": "stream",
     "text": [
      "eps=1e-07 N=23.25349666421154\n",
      "24 член последовательности можно взять в качестве предела с точностью 1e-07\n"
     ]
    }
   ],
   "source": [
    "import math\n",
    "eps = 0.0000001\n",
    "N = -math.log(eps,2)\n",
    "\n",
    "print (f'eps={eps}', f'N={N}')\n",
    "print(f'{int(N+1)} член последовательности можно взять в качестве предела с точностью {eps}')"
   ]
  },
  {
   "cell_type": "code",
   "execution_count": null,
   "metadata": {},
   "outputs": [],
   "source": []
  }
 ],
 "metadata": {
  "kernelspec": {
   "display_name": "Python 3",
   "language": "python",
   "name": "python3"
  },
  "language_info": {
   "codemirror_mode": {
    "name": "ipython",
    "version": 3
   },
   "file_extension": ".py",
   "mimetype": "text/x-python",
   "name": "python",
   "nbconvert_exporter": "python",
   "pygments_lexer": "ipython3",
   "version": "3.8.5"
  }
 },
 "nbformat": 4,
 "nbformat_minor": 4
}
