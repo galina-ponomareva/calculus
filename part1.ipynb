{
 "cells": [
  {
   "cell_type": "markdown",
   "metadata": {},
   "source": [
    "__1.__ Найти производную функции:\n",
    "\n",
    "### $$y=\\frac{1}{x}+\\frac{2}{x^2}-\\frac{5}{x^3}+\\sqrt x -\\sqrt[3]x+\\frac{3}{\\sqrt x}$$"
   ]
  },
  {
   "cell_type": "markdown",
   "metadata": {},
   "source": [
    "$$y'= \\Bigl(\\frac{1}{x}\\Bigr)'+\\Bigl(\\frac{2}{x^2}\\Bigr)'-\\Bigl(\\frac{5}{x^3}\\Bigr)'+(\\sqrt x)' -(\\sqrt[3]x)'+\\Bigl(\\frac{3}{\\sqrt x}\\Bigr)'$$\n",
    "\n",
    "$$y'= -x^{-1-1} + 2 \\cdot (-2) \\cdot (x^{-2-1})-5 \\cdot (-3) \\cdot (x^{-3-1}) + \\frac{1}{2} \\cdot (x^{\\frac{1}{2}-1}) - \\frac{1}{3} \\cdot (x^{\\frac{1}{3}-1}) + 3 \\cdot (-\\frac{1}{2}) \\cdot (x^{-\\frac{1}{2}-1}) = $$\n",
    "\n",
    "$$ = -x^{-2}-4x^{-3}+15x^{-4}+\\frac{1}{2}x^{-\\frac{1}{2}}-\\frac{1}{3}x^{-\\frac{2}{3}}-\\frac{3}{2}x^{-\\frac{3}{2}} = $$\n",
    "\n",
    "$$ = -\\frac{1}{x^2}-\\frac{4}{x^3}+\\frac{15}{x^4}+\\frac{1}{2\\sqrt x}-\\frac{1}{3\\sqrt[3]{x^2}}-\\frac{3}{2x\\sqrt x}$$"
   ]
  },
  {
   "cell_type": "markdown",
   "metadata": {},
   "source": [
    "__2.__ Найти производную функции:\n",
    "\n",
    "### $$y=x \\cdot \\sqrt {1+x^2}$$"
   ]
  },
  {
   "cell_type": "markdown",
   "metadata": {},
   "source": [
    "$$y'= x' \\cdot \\sqrt{1+x^2} + x \\cdot \\Bigl(\\sqrt{1+x^2}\\Bigr)'$$\n",
    "\n",
    "$$y'= \\sqrt{1+x^2} + x \\cdot \\frac{1}{2\\sqrt{1+x^2}} \\cdot 2x = \\sqrt{1+x^2} + \\frac{x^2}{\\sqrt{1+x^2}} = \\frac{1+2x^2}{\\sqrt{1+x^2}}$$"
   ]
  },
  {
   "cell_type": "markdown",
   "metadata": {},
   "source": [
    "__3.__ Найти производную функции:\n",
    "\n",
    "### $$y= \\frac{2x}{1-x^2}$$"
   ]
  },
  {
   "cell_type": "markdown",
   "metadata": {},
   "source": [
    "$$y'= \\frac{(2x)' \\cdot (1-x^2) - 2x \\cdot (1-x^2)'}{(1-x^2)^2}$$\n",
    "\n",
    "$$y'= \\frac{2(1-x^2) - 2x \\cdot (-2x)}{(1-x^2)^2} = \\frac{2-2x^2+4x^2}{(1-x^2)^2} = \\frac{2+2x^2}{(1-x^2)^2}$$"
   ]
  },
  {
   "cell_type": "markdown",
   "metadata": {},
   "source": [
    "__4*.__ Найти производную функции:\n",
    "\n",
    "### $$y=\\sqrt{x+ \\sqrt{x+\\sqrt x}}$$"
   ]
  },
  {
   "cell_type": "markdown",
   "metadata": {},
   "source": [
    "$$y' = \\frac{1}{2\\sqrt{x+ \\sqrt{x+\\sqrt x}}} \\cdot \\Bigl(1 + \\frac{1}{2\\sqrt{x+\\sqrt x}} \\cdot \\Bigl(1 + \\frac{1}{2\\sqrt x}\\Bigr)\\Bigr) = $$\n",
    "\n",
    "$$ = \\frac{1}{2\\sqrt{x+ \\sqrt{x+\\sqrt x}}} \\cdot \\Bigl(1 + \\frac{1}{2\\sqrt{x+\\sqrt x}} + \\frac{1}{2\\sqrt x \\cdot 2\\sqrt{x+\\sqrt x}}\\Bigr) = $$\n",
    "\n",
    "$$ = \\frac{1}{2\\sqrt{x+ \\sqrt{x+\\sqrt x}}} + \\frac{1}{4\\sqrt{x+\\sqrt x}\\sqrt{x+ \\sqrt{x+\\sqrt x}}} + \\frac{1}{8\\sqrt x\\sqrt{x+\\sqrt x}\\sqrt{x+ \\sqrt{x+\\sqrt x}}} = $$\n",
    "\n",
    "$$ = \\frac{4\\sqrt x\\sqrt{x+\\sqrt x}+2\\sqrt x+1}{8\\sqrt x\\sqrt{x+\\sqrt x}\\sqrt{x+ \\sqrt{x+\\sqrt x}}}$$"
   ]
  },
  {
   "cell_type": "markdown",
   "metadata": {},
   "source": [
    "__5.__ Найти производную функции:\n",
    "\n",
    "### $$y= \\ln(x+\\sqrt{x^2+1})$$"
   ]
  },
  {
   "cell_type": "markdown",
   "metadata": {},
   "source": [
    "$$y'=\\frac{1}{x+\\sqrt{x^2+1}} \\cdot \\Bigl(1+\\frac{1}{2\\sqrt{x^2+1}} \\cdot 2x\\Bigr) = $$\n",
    "\n",
    "$$ = \\frac{1}{x+\\sqrt{x^2+1}} + \\frac{x}{\\sqrt{x^2+1}(x+\\sqrt{x^2+1})} = $$\n",
    "\n",
    "$$ = \\frac{\\sqrt{x^2+1}+x}{\\sqrt{x^2+1}(x+\\sqrt{x^2+1})} = \\frac{1}{\\sqrt{x^2+1}}$$"
   ]
  },
  {
   "cell_type": "markdown",
   "metadata": {},
   "source": [
    "__6.__ Найти производную функции:\n",
    "\n",
    "### $$y=x \\cdot \\ln(x+\\sqrt{x^2+1})-\\sqrt{x^2+1}$$"
   ]
  },
  {
   "cell_type": "markdown",
   "metadata": {},
   "source": [
    "$$y' = x' \\cdot \\ln(x+\\sqrt{x^2+1}) + x \\cdot \\ln(x+\\sqrt{x^2+1})' - (\\sqrt{x^2+1})'$$\n",
    "\n",
    "$$y' = \\ln(x+\\sqrt{x^2+1}) + x \\cdot \\frac{1}{\\sqrt{x^2+1}} - \\frac{1}{2\\sqrt{x^2+1}} \\cdot 2x = $$\n",
    "\n",
    "$$ = \\ln(x+\\sqrt{x^2+1}) + \\frac{x}{\\sqrt{x^2+1}} - \\frac{x}{\\sqrt{x^2+1}} = $$\n",
    "\n",
    "$$ = \\ln(x+\\sqrt{x^2+1})$$"
   ]
  },
  {
   "cell_type": "markdown",
   "metadata": {},
   "source": [
    "__7*.__ Найти производную функции:\n",
    "\n",
    "### $$y=\\arcsin (\\sin x)$$"
   ]
  },
  {
   "cell_type": "markdown",
   "metadata": {},
   "source": [
    "$$y' = \\frac{1}{\\sqrt{1-\\sin^2(x)}} \\cdot \\cos x = \\frac{\\cos x}{\\sqrt{\\cos^2(x)}}$$\n",
    "\n",
    "$y' = -1$ при $\\cos x<0$\n",
    "\n",
    "$y' = 1$ при $\\cos x>0$\n",
    "\n",
    "$y'$ не существует при $\\cos x=0$"
   ]
  },
  {
   "cell_type": "code",
   "execution_count": null,
   "metadata": {},
   "outputs": [],
   "source": []
  }
 ],
 "metadata": {
  "kernelspec": {
   "display_name": "Python 3",
   "language": "python",
   "name": "python3"
  },
  "language_info": {
   "codemirror_mode": {
    "name": "ipython",
    "version": 3
   },
   "file_extension": ".py",
   "mimetype": "text/x-python",
   "name": "python",
   "nbconvert_exporter": "python",
   "pygments_lexer": "ipython3",
   "version": "3.8.5"
  }
 },
 "nbformat": 4,
 "nbformat_minor": 4
}
