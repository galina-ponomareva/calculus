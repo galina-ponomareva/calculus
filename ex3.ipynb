{
 "cells": [
  {
   "cell_type": "markdown",
   "metadata": {},
   "source": [
    "__3.__ Проверьте любым способ, является ли данные логические формулы тавтологией:\n",
    "\n",
    "### $$a)\\,\\,\\, (A \\vee B) \\rightarrow (B \\vee\\overline A)$$\n",
    "### $$б)\\,\\,\\, A \\rightarrow (A \\vee (\\overline B \\wedge A))$$"
   ]
  },
  {
   "cell_type": "markdown",
   "metadata": {},
   "source": [
    "а) Решим с помощью таблицы истинности:\n",
    " \n",
    "<table>\n",
    "<thead>\n",
    "<tr><th>$A$</th><th>$B$</th><th>$A \\vee B$</th><th>$\\overline A$</th><th>$B \\vee \\overline A$</th><th>$(A \\vee B) \\rightarrow (B \\vee \\overline A)$</th></tr>\n",
    "</thead>\n",
    "<tbody>\n",
    "    <tr><td>$0$</td><td>$0$</td><td>$0$</td><td>$1$</td><td>$1$</td><td>$1$</td></tr>\n",
    "    <tr><td>$0$</td><td>$1$</td><td>$1$</td><td>$1$</td><td>$1$</td><td>$1$</td></tr>\n",
    "    <tr><td>$1$</td><td>$0$</td><td>$1$</td><td>$0$</td><td>$0$</td><td>$0$</td></tr>\n",
    "    <tr><td>$1$</td><td>$1$</td><td>$1$</td><td>$0$</td><td>$1$</td><td>$1$</td></tr>\n",
    "</tbody>\n",
    "</table>\n",
    "\n",
    "Логическая формула не является тавтологией, так как истинность звависит от значений $A$ и $B$."
   ]
  },
  {
   "cell_type": "markdown",
   "metadata": {},
   "source": [
    "б) $$A \\rightarrow (A \\vee (\\overline B \\wedge A))$$\n",
    "\n",
    "$$A \\rightarrow (A \\vee (A \\wedge \\overline B))$$\n",
    "\n",
    "Согласно закону поглощения для дизъюнкции, $A\\vee(A\\wedge B) = A$, поэтому:\n",
    "\n",
    "$$A \\rightarrow A$$\n",
    "\n",
    "Логическая формула является тавтологией, так как при любом $A$ получаем истинное значение."
   ]
  },
  {
   "cell_type": "code",
   "execution_count": null,
   "metadata": {},
   "outputs": [],
   "source": []
  }
 ],
 "metadata": {
  "kernelspec": {
   "display_name": "Python 3",
   "language": "python",
   "name": "python3"
  },
  "language_info": {
   "codemirror_mode": {
    "name": "ipython",
    "version": 3
   },
   "file_extension": ".py",
   "mimetype": "text/x-python",
   "name": "python",
   "nbconvert_exporter": "python",
   "pygments_lexer": "ipython3",
   "version": "3.8.5"
  }
 },
 "nbformat": 4,
 "nbformat_minor": 4
}
