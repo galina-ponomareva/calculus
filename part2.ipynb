{
 "cells": [
  {
   "cell_type": "markdown",
   "metadata": {},
   "source": [
    "__8*.__ Вычислить приближенное значение: \n",
    "\n",
    "### $$\\sin(1^0)=\\sin\\Bigl(\\frac{\\pi}{180}\\Bigr)$$"
   ]
  },
  {
   "cell_type": "markdown",
   "metadata": {},
   "source": [
    "$$f(x+\\Delta x) \\approx f(x)+f'(x) \\cdot \\Delta x$$\n",
    "\n",
    "Пусть $x=0$ и $\\Delta x=\\frac{\\pi}{180}$, тогда\n",
    "\n",
    "$$\\sin\\Bigl(0+\\frac{\\pi}{180}\\Bigr) \\approx \\sin 0 + (\\sin 0)' \\cdot \\frac{\\pi}{180}$$\n",
    "\n",
    "$$\\sin\\Bigl(\\frac{\\pi}{180}\\Bigr) \\approx \\sin 0 + \\cos 0 \\cdot \\frac{\\pi}{180} = 0 + 1 \\cdot \\frac{\\pi}{180} = \\frac{\\pi}{180}$$\n",
    "\n",
    "$$\\sin\\Bigl(\\frac{\\pi}{180}\\Bigr) \\approx \\frac{\\pi}{180}$$"
   ]
  },
  {
   "cell_type": "code",
   "execution_count": 1,
   "metadata": {},
   "outputs": [],
   "source": [
    "import numpy as np"
   ]
  },
  {
   "cell_type": "code",
   "execution_count": 2,
   "metadata": {},
   "outputs": [
    {
     "name": "stdout",
     "output_type": "stream",
     "text": [
      "0.01745240643728351\n",
      "0.017453292519943295\n"
     ]
    }
   ],
   "source": [
    "x = np.sin(np.pi/180)\n",
    "approx_x = np.pi/180\n",
    "\n",
    "print(x)\n",
    "print(approx_x)"
   ]
  },
  {
   "cell_type": "code",
   "execution_count": null,
   "metadata": {},
   "outputs": [],
   "source": []
  }
 ],
 "metadata": {
  "kernelspec": {
   "display_name": "Python 3",
   "language": "python",
   "name": "python3"
  },
  "language_info": {
   "codemirror_mode": {
    "name": "ipython",
    "version": 3
   },
   "file_extension": ".py",
   "mimetype": "text/x-python",
   "name": "python",
   "nbconvert_exporter": "python",
   "pygments_lexer": "ipython3",
   "version": "3.8.5"
  }
 },
 "nbformat": 4,
 "nbformat_minor": 4
}
