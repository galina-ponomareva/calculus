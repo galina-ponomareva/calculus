{
 "cells": [
  {
   "cell_type": "markdown",
   "metadata": {},
   "source": [
    "__2*.__ Пусть $x =\\frac{2}{21}$. Известно, что для некоторого натурального $k$ число $x$ записывается в $k$ - ичной системе счисления как $0.(13)_k = 0, 131313..._k$. Найдите $k$."
   ]
  },
  {
   "cell_type": "markdown",
   "metadata": {},
   "source": [
    "$$0.(13)_k = 0, 131313..._k$$\n",
    "\n",
    "$$a_k = 0.(13)_k$$\n",
    "\n",
    "$$100_k \\cdot a_k = 13_k + 0.(13)_k$$\n",
    "\n",
    "$$100_k \\cdot a_k = 13_k + a_k$$\n",
    "\n",
    "$$(100_k - 1_k) \\cdot a_k = 13_k$$\n",
    "\n",
    "$$a_k = \\frac{13_k}{100_k - 1_k}$$\n",
    "\n",
    "$$0.(13)_k = \\frac{13_k}{100_k - 1_k}$$\n",
    "\n",
    "Переведем полученную обыкновенную дробь в десятичную систему счисления:\n",
    "\n",
    "$$\\frac{13_k}{100_k - 1_k} = \\frac{1 \\cdot k^1 + 3 \\cdot k^0}{1 \\cdot k^2 - 1} = \\frac{k + 3}{k^2 - 1}$$\n",
    "\n",
    "Известно, что в десятичной системе счисления $x = \\frac{2}{21}$, поэтому:\n",
    "\n",
    "$$\\frac{k + 3}{k^2 - 1} = \\frac{2}{21}$$\n",
    "\n",
    "$$21 \\cdot (k + 3) = 2 \\cdot (k^2 - 1)$$\n",
    "\n",
    "$$21k + 63 = 2k^2 - 2$$\n",
    "\n",
    "$$2k^2 - 21k - 65 = 0$$\n",
    "\n",
    "$$D = 441 + 8 \\cdot 65 = 961 = 31^2$$\n",
    "\n",
    "$$k_1 = \\frac{21 - 31}{4} = -2.5, k_2 = \\frac{21 + 31}{4} = 13$$\n",
    "\n",
    "Так как $k\\in \\mathbb {N}$, то $k = 13$."
   ]
  },
  {
   "cell_type": "code",
   "execution_count": null,
   "metadata": {},
   "outputs": [],
   "source": []
  }
 ],
 "metadata": {
  "kernelspec": {
   "display_name": "Python 3",
   "language": "python",
   "name": "python3"
  },
  "language_info": {
   "codemirror_mode": {
    "name": "ipython",
    "version": 3
   },
   "file_extension": ".py",
   "mimetype": "text/x-python",
   "name": "python",
   "nbconvert_exporter": "python",
   "pygments_lexer": "ipython3",
   "version": "3.8.5"
  }
 },
 "nbformat": 4,
 "nbformat_minor": 4
}
