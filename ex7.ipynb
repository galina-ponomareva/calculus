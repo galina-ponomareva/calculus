{
 "cells": [
  {
   "cell_type": "markdown",
   "metadata": {},
   "source": [
    "__7*.__ Исследовать на экстремум функцию:\n",
    "\n",
    "### $$U=e^{-\\frac{x}{2}}\\cdot(x^2+y^2)$$"
   ]
  },
  {
   "cell_type": "markdown",
   "metadata": {},
   "source": [
    "$$\\begin{cases}\n",
    "   U'_{x}=-\\frac{1}{2}e^{-\\frac{x}{2}}\\cdot(x^2+y^2)+e^{-\\frac{x}{2}}\\cdot2x=0, \\\\\n",
    "   U'_{y}=e^{-\\frac{x}{2}}\\cdot2y=0 \n",
    " \\end{cases}$$\n",
    "\n",
    "$$\\begin{cases}\n",
    "   U'_{x}=e^{-\\frac{x}{2}}(-\\frac{1}{2}(x^2+y^2)+2x)=0, \\\\\n",
    "   U'_{y}=e^{-\\frac{x}{2}}\\cdot2y=0 \n",
    " \\end{cases}$$\n",
    " \n",
    "$$y=0:$$\n",
    "$$-\\frac{1}{2}(x^2+0^2)+2x=0$$\n",
    "$$-\\frac{1}{2}x^2+2x=0$$\n",
    "$$x(2-\\frac{1}{2}x)=0$$\n",
    "$$x=0, x=4$$\n",
    "\n",
    "Итого имеем две стационарные точки: $(0,0)$ и $(4,0)$."
   ]
  },
  {
   "cell_type": "markdown",
   "metadata": {},
   "source": [
    "$$U''_{xx}=-\\frac{1}{2}(-\\frac{1}{2}e^{-\\frac{x}{2}}\\cdot(x^2+y^2)+e^{-\\frac{x}{2}}\\cdot2x)-\\frac{1}{2}e^{-\\frac{x}{2}}\\cdot2x+e^{-\\frac{x}{2}}\\cdot2=$$\n",
    "$$=\\frac{1}{4}e^{-\\frac{x}{2}}\\cdot(x^2+y^2)-\\frac{1}{2}e^{-\\frac{x}{2}}\\cdot2x-xe^{-\\frac{x}{2}}+2e^{-\\frac{x}{2}}=$$\n",
    "$$=\\frac{1}{4}e^{-\\frac{x}{2}}\\cdot(x^2+y^2)-2xe^{-\\frac{x}{2}}+2e^{-\\frac{x}{2}}$$\n",
    "$$U''_{xy}=U''_{yx}=-\\frac{1}{2}e^{-\\frac{x}{2}}\\cdot2y=-ye^{-\\frac{x}{2}}$$\n",
    "$$U''_{yy}=2e^{-\\frac{x}{2}}$$"
   ]
  },
  {
   "cell_type": "markdown",
   "metadata": {},
   "source": [
    "$$(0,0):$$\n",
    "\n",
    "$$U''_{xx}=\\frac{1}{4}e^{0}\\cdot0-0\\cdot e^{0}+2e^{0}=2$$\n",
    "$$U''_{xy}=U''_{yx}=-\\frac{1}{2}e^{0}\\cdot0=0$$\n",
    "$$U''_{yy}=2e^{0}=2$$\n",
    "\n",
    "Матрица Гёссе имеет вид:\n",
    "\n",
    "$$\\begin{pmatrix}\n",
    "2 & 0\\\\ \n",
    "0 & 2\\\\\n",
    "\\end{pmatrix}$$\n",
    "\n",
    "$$\\Delta_{1}=2>0$$\n",
    "\n",
    "$$\\Delta_{2}=\\begin{vmatrix}\n",
    "2 & 0\\\\ \n",
    "0 & 2\\\\\n",
    "\\end{vmatrix}=2\\cdot2-0^2=4>0$$\n",
    "\n",
    "Оба минора положительные, это говорит о том, что точка (0,0) является точкой минимума."
   ]
  },
  {
   "cell_type": "markdown",
   "metadata": {},
   "source": [
    "$$(4,0):$$\n",
    "\n",
    "$$U''_{xx}=\\frac{1}{4}e^{-2}\\cdot16-8\\cdot e^{-2}+2e^{-2}=e^{-2}(4-8+2)=-2e^{-2}$$\n",
    "$$U''_{xy}=U''_{yx}=-\\frac{1}{2}e^{-2}\\cdot0=0$$\n",
    "$$U''_{yy}=2e^{-2}$$\n",
    "\n",
    "Матрица Гёссе имеет вид:\n",
    "\n",
    "$$\\begin{pmatrix}\n",
    "-2e^{-2} & 0\\\\ \n",
    "0 & 2e^{-2}\\\\\n",
    "\\end{pmatrix}$$\n",
    "\n",
    "$$\\Delta_{1}=-2e^{-2}<0$$\n",
    "\n",
    "$$\\Delta_{2}=\\begin{vmatrix}\n",
    "-2e^{-2} & 0\\\\ \n",
    "0 & 2e^{-2}\\\\\n",
    "\\end{vmatrix}=-2e^{-2}\\cdot2e^{-2}-0^2=-4e^{-4}<0$$\n",
    "\n",
    "Оба минора отрицательные. Это говорит о том, что точка $(4,0)$ является седловой."
   ]
  },
  {
   "cell_type": "code",
   "execution_count": null,
   "metadata": {},
   "outputs": [],
   "source": []
  }
 ],
 "metadata": {
  "kernelspec": {
   "display_name": "Python 3",
   "language": "python",
   "name": "python3"
  },
  "language_info": {
   "codemirror_mode": {
    "name": "ipython",
    "version": 3
   },
   "file_extension": ".py",
   "mimetype": "text/x-python",
   "name": "python",
   "nbconvert_exporter": "python",
   "pygments_lexer": "ipython3",
   "version": "3.8.5"
  }
 },
 "nbformat": 4,
 "nbformat_minor": 4
}
