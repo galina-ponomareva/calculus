{
 "cells": [
  {
   "cell_type": "markdown",
   "metadata": {},
   "source": [
    "__3.__ Найти производную функции $U=x^2+y^2+z^2$ по направлению вектора $\\overrightarrow{c}(-9,8,-12)$ в точке $M(8,-12,9)$"
   ]
  },
  {
   "cell_type": "markdown",
   "metadata": {},
   "source": [
    "$$|\\overrightarrow{c}|=\\sqrt{(-9)^2+8^2+(-12)^2}=\\sqrt{81+64+144}=\\sqrt{289}=17$$"
   ]
  },
  {
   "cell_type": "markdown",
   "metadata": {},
   "source": [
    "$$\\overrightarrow{c_{0}}=\\frac{\\overrightarrow{c}}{|\\overrightarrow{c}|}=\\Bigr(-\\frac{9}{17},\\frac{8}{17},-\\frac{12}{17}\\Bigl)$$"
   ]
  },
  {
   "cell_type": "markdown",
   "metadata": {},
   "source": [
    "$$U'_{x}=2x$$\n",
    "$$U'_{y}=2y$$\n",
    "$$U'_{z}=2z$$\n",
    "\n",
    "Тогда градиент функции $U$ в точке $M(8,-12,9)$ равен\n",
    "\n",
    "$$\\mbox{grad}U=(16,-24,18)$$"
   ]
  },
  {
   "cell_type": "markdown",
   "metadata": {},
   "source": [
    "$$U'_{\\overrightarrow{с}}=(\\overrightarrow{с}_{0}\\cdot \\mbox{grad}U)$$\n",
    "\n",
    "$$U'_{\\overrightarrow{с}}=-\\frac{9}{17}\\cdot 16+\\frac{8}{17}\\cdot (-24)-\\frac{12}{17}\\cdot 18=-\\frac{144+192+216}{17}=-\\frac{552}{17}=-32\\frac{8}{17}$$"
   ]
  },
  {
   "cell_type": "markdown",
   "metadata": {},
   "source": [
    "__4.__ Найти производную функции $U=e^{x^2+y^2+z^2}$ по направлению вектора $\\overrightarrow{c}(4,-13,-16)$ в точке $L(-16,4,-13)$"
   ]
  },
  {
   "cell_type": "markdown",
   "metadata": {},
   "source": [
    "$$|\\overrightarrow{c}|=\\sqrt{4^2+(-13)^2+(-16)^2}=\\sqrt{16+169+256}=\\sqrt{441}=21$$"
   ]
  },
  {
   "cell_type": "markdown",
   "metadata": {},
   "source": [
    "$$\\overrightarrow{c_{0}}=\\frac{\\overrightarrow{c}}{|\\overrightarrow{c}|}=\\Bigr(\\frac{4}{21},-\\frac{13}{21},-\\frac{16}{21}\\Bigl)$$"
   ]
  },
  {
   "cell_type": "markdown",
   "metadata": {},
   "source": [
    "$$U'_{x}=e^{x^2+y^2+z^2} \\cdot 2x$$\n",
    "$$U'_{y}=e^{x^2+y^2+z^2} \\cdot 2y$$\n",
    "$$U'_{z}=e^{x^2+y^2+z^2} \\cdot 2z$$\n",
    "\n",
    "Тогда градиент функции $U$ в точке $L(-16,4,-13)$ равен\n",
    "\n",
    "$$\\mbox{grad}U=(-32e^{441},8e^{441},-26e^{441})$$"
   ]
  },
  {
   "cell_type": "markdown",
   "metadata": {},
   "source": [
    "$$U'_{\\overrightarrow{с}}=(\\overrightarrow{с}_{0}\\cdot \\mbox{grad}U)$$\n",
    "\n",
    "$$U'_{\\overrightarrow{с}}=\\frac{4}{21}\\cdot (-32e^{441})-\\frac{13}{21}\\cdot 8e^{441}-\\frac{16}{21}\\cdot (-26e^{441})=e^{441}\\frac{-128-104+416}{21}=e^{441}\\frac{184}{21}$$"
   ]
  },
  {
   "cell_type": "markdown",
   "metadata": {},
   "source": [
    "__5*.__ Найти производную функции $U=\\log_{21}(x^2+y^2+z^2)$ в точке $F(-19,8,-4)$ по самому быстрому направлению."
   ]
  },
  {
   "cell_type": "markdown",
   "metadata": {},
   "source": [
    "Самое быстрое направление - вектор градиента $\\mbox{grad} U=(U'_{x},U'_{y},U'_{z})$.\n",
    "\n",
    "$$U'_{\\mbox{grad} U}=(\\mbox{grad} U_{0}\\cdot \\mbox{grad}U)$$\n",
    "\n",
    "$$\\mbox{grad} U_{0}=\\frac{\\mbox{grad}U}{|\\mbox{grad}U|}=$$\n",
    "$$=\\Bigl(\\frac{U'_{x}}{\\sqrt{U'^2_{x}+U'^2_{y}+U'^2_{z}}},\\frac{U'_{y}}{\\sqrt{U'^2_{x}+U'^2_{y}+U'^2_{z}}},\\frac{U'_{z}}{\\sqrt{U'^2_{x}+U'^2_{y}+U'^2_{z}}}\\Bigr)$$\n",
    "\n",
    "$$U'_{\\mbox{grad} U}=\\frac{U'_{x}}{\\sqrt{U'^2_{x}+U'^2_{y}+U'^2_{z}}} \\cdot U'_{x}+\\frac{U'_{y}}{\\sqrt{U'^2_{x}+U'^2_{y}+U'^2_{z}}} \\cdot U'_{y} + \\frac{U'_{z}}{\\sqrt{U'^2_{x}+U'^2_{y}+U'^2_{z}}}\\Bigr) \\cdot U'_{z}=$$\n",
    "\n",
    "$$=\\frac{U'^2_{x}+U'^2_{y}+U'^2_{z}}{\\sqrt{U'^2_{x}+U'^2_{y}+U'^2_{z}}}=\\sqrt{U'^2_{x}+U'^2_{y}+U'^2_{z}}=|\\mbox{grad}U|$$"
   ]
  },
  {
   "cell_type": "markdown",
   "metadata": {},
   "source": [
    "$$U'_{x}=\\frac{2x}{\\ln21(x^2+y^2+z^2)}$$\n",
    "$$U'_{y}=\\frac{2y}{\\ln21(x^2+y^2+z^2)}$$\n",
    "$$U'_{z}=\\frac{2z}{\\ln21(x^2+y^2+z^2)}$$\n",
    "\n",
    "Тогда производная $U$ в точке $F(-19,8,-4)$ по самому быстрому направлению\n",
    "\n",
    "$$U'_{\\mbox{grad} U}=|\\mbox{grad}U|=\\sqrt{U'^2_{x}+U'^2_{y}+U'^2_{z}}=$$\n",
    "\n",
    "$$=\\sqrt{\\Bigl(\\frac{-38}{\\ln21(361+64+16)}\\Bigr)^2+\\Bigl(\\frac{16}{\\ln21(361+64+16)}\\Bigr)^2+\\Bigl(\\frac{-8}{\\ln21(361+64+16)}\\Bigr)^2}=$$\n",
    "\n",
    "$$=\\sqrt{\\frac{1444+256+64}{(441\\ln21)^2}}=\\sqrt{\\frac{1764}{(441\\ln21)^2}}=\\frac{42}{441\\ln21}=\\frac{2}{21\\ln21}$$"
   ]
  },
  {
   "cell_type": "code",
   "execution_count": null,
   "metadata": {},
   "outputs": [],
   "source": []
  }
 ],
 "metadata": {
  "kernelspec": {
   "display_name": "Python 3",
   "language": "python",
   "name": "python3"
  },
  "language_info": {
   "codemirror_mode": {
    "name": "ipython",
    "version": 3
   },
   "file_extension": ".py",
   "mimetype": "text/x-python",
   "name": "python",
   "nbconvert_exporter": "python",
   "pygments_lexer": "ipython3",
   "version": "3.8.5"
  }
 },
 "nbformat": 4,
 "nbformat_minor": 4
}
