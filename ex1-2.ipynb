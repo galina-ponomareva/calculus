{
 "cells": [
  {
   "cell_type": "markdown",
   "metadata": {},
   "source": [
    "__1.__ Исследовать на условный экстремум функцию\n",
    "\n",
    "### $$U=3-8x+6y,$$\n",
    "\n",
    "если\n",
    "\n",
    "### $$x^2+y^2=36$$"
   ]
  },
  {
   "cell_type": "markdown",
   "metadata": {},
   "source": [
    "Составим функцию Лагранжа:\n",
    "\n",
    "$$L(x,y,\\lambda)=3-8x+6y+\\lambda \\cdot (x^2+y^2-36)$$\n",
    "\n",
    "$$\\begin{cases}\n",
    "   L'_{x}=-8+\\lambda \\cdot2x=0, \\\\\n",
    "   L'_{y}=6+\\lambda \\cdot2y=0, \\\\\n",
    "   L'_{\\lambda}=x^2+y^2-36=0\n",
    " \\end{cases}$$\n",
    " \n",
    "$$\\begin{cases}\n",
    "   x=\\frac{4}{\\lambda}, \\\\\n",
    "   y=-\\frac{3}{\\lambda}, \\\\\n",
    "   \\Bigr(\\frac{4}{\\lambda}\\Bigl)^2+\\Bigr(-\\frac{3}{\\lambda}\\Bigl)^2=36\n",
    " \\end{cases}\\Rightarrow \n",
    " \\begin{cases}\n",
    "   x=\\frac{4}{\\lambda}, \\\\\n",
    "   y=-\\frac{3}{\\lambda}, \\\\\n",
    "   \\frac{25}{\\lambda^2}=36\n",
    " \\end{cases}\n",
    " \\Rightarrow \n",
    " \\begin{cases}\n",
    "  x=\\frac{4}{\\lambda}, \\\\\n",
    "  y=-\\frac{3}{\\lambda}, \\\\\n",
    "   \\lambda^2=\\frac{25}{36}\n",
    " \\end{cases}$$\n",
    " \n",
    " Получаем две точки: $(\\frac{24}{5},-\\frac{18}{5},\\frac{5}{6})$ и $(-\\frac{24}{5},\\frac{18}{5},-\\frac{5}{6})$"
   ]
  },
  {
   "cell_type": "markdown",
   "metadata": {},
   "source": [
    "$$L''_{xx}=2\\lambda$$\n",
    "$$L''_{yy}=2\\lambda$$\n",
    "$$L''_{\\lambda \\lambda}=0$$\n",
    "$$L''_{xy}=L''_{yx}=0$$\n",
    "$$L''_{x\\lambda}=L''_{\\lambda x}=2x$$\n",
    "$$L''_{y\\lambda}=L''_{\\lambda y}=2y$$ \n",
    "\n",
    "Составим матрицу Гёссе:\n",
    "$$\\begin{pmatrix}\n",
    "0 & 2x & 2y\\\\ \n",
    "2x & 2\\lambda & 0\\\\\n",
    "2y & 0 & 2\\lambda\\\\\n",
    "\\end{pmatrix}$$\n",
    "\n",
    "$$\\Delta=\\begin{vmatrix}\n",
    "0 & 2x & 2y\\\\ \n",
    "2x & 2\\lambda & 0\\\\\n",
    "2y & 0 & 2\\lambda\\\\\n",
    "\\end{vmatrix}\n",
    "=0\\cdot\n",
    "\\begin{vmatrix}\n",
    "2\\lambda & 0\\\\\n",
    "0 & 2\\lambda\\\\\n",
    "\\end{vmatrix}-2x\\cdot\n",
    "\\begin{vmatrix}\n",
    "2x & 0\\\\\n",
    "2y & 2\\lambda\\\\\n",
    "\\end{vmatrix}+2y\\cdot\n",
    "\\begin{vmatrix}\n",
    "2x & 2\\lambda\\\\\n",
    "2y & 0\\\\\n",
    "\\end{vmatrix}=$$\n",
    "\n",
    "$$=(-2x)\\cdot 4x\\lambda+2y \\cdot(-4y\\lambda)=-8\\lambda(x^2+y^2)$$\n",
    "\n",
    "$x^2+y^2=36$, тогда \n",
    "$$\\Delta=-8\\lambda \\cdot 36 = -288\\lambda$$"
   ]
  },
  {
   "cell_type": "markdown",
   "metadata": {},
   "source": [
    "Если $\\lambda=\\frac{5}{6}$, то $\\Delta<0$, следовательно $(\\frac{24}{5},-\\frac{18}{5},\\frac{5}{6})$ - точка минимума.\n",
    "\n",
    "Если $\\lambda=-\\frac{5}{6}$, то $\\Delta>0$, следовательно $(-\\frac{24}{5},\\frac{18}{5},-\\frac{5}{6})$ - точка максимума."
   ]
  },
  {
   "cell_type": "markdown",
   "metadata": {},
   "source": [
    "__2.__ Исследовать на условный экстремум функцию\n",
    "\n",
    "### $$U=2x^2+12xy+32y^2+15,$$\n",
    "\n",
    "если\n",
    "\n",
    "### $$x^2+16y^2=64$$"
   ]
  },
  {
   "cell_type": "markdown",
   "metadata": {},
   "source": [
    "Составим функцию Лагранжа:\n",
    "\n",
    "$$L(x,y,\\lambda)=2x^2+12xy+32y^2+15+\\lambda \\cdot (x^2+16y^2-64)$$\n",
    "\n",
    "$$\\begin{cases}\n",
    "   L'_{x}=4x+12y+\\lambda \\cdot2x=0, \\\\\n",
    "   L'_{y}=12x+64y+\\lambda \\cdot32y=0, \\\\\n",
    "   L'_{\\lambda}=x^2+16y^2-64=0\n",
    " \\end{cases}$$\n",
    " \n",
    "Система решена с помощью WolframAlpha.\n",
    "Получаем четыре точки: $(-4\\sqrt{2},-\\sqrt{2},-\\frac{7}{2})$, $(-4\\sqrt{2},\\sqrt{2},-\\frac{1}{2})$, $(4\\sqrt{2},-\\sqrt{2},-\\frac{1}{2})$ и $(4\\sqrt{2},\\sqrt{2},-\\frac{7}{2})$"
   ]
  },
  {
   "cell_type": "markdown",
   "metadata": {},
   "source": [
    "$$L''_{xx}=4+2\\lambda$$\n",
    "$$L''_{yy}=64+32\\lambda$$\n",
    "$$L''_{\\lambda \\lambda}=0$$\n",
    "$$L''_{xy}=L''_{yx}=12$$\n",
    "$$L''_{x\\lambda}=L''_{\\lambda x}=2x$$\n",
    "$$L''_{y\\lambda}=L''_{\\lambda y}=32y$$ \n",
    "\n",
    "Составим матрицу Гёссе:\n",
    "$$\\begin{pmatrix}\n",
    "0 & 2x & 32y\\\\ \n",
    "2x & 4+2\\lambda & 12\\\\\n",
    "32y & 12 & 64+32\\lambda\\\\\n",
    "\\end{pmatrix}$$\n",
    "\n",
    "$$\\Delta=\\begin{vmatrix}\n",
    "0 & 2x & 32y\\\\ \n",
    "2x & 4+2\\lambda & 12\\\\\n",
    "32y & 12 & 64+32\\lambda\\\\\n",
    "\\end{vmatrix}\n",
    "=0\\cdot\n",
    "\\begin{vmatrix}\n",
    "4+2\\lambda & 12\\\\\n",
    "12 & 64+32\\lambda\\\\\n",
    "\\end{vmatrix}-2x\\cdot\n",
    "\\begin{vmatrix}\n",
    "2x & 12\\\\\n",
    "32y & 64+32\\lambda\\\\\n",
    "\\end{vmatrix}+32y\\cdot\n",
    "\\begin{vmatrix}\n",
    "2x & 4+2\\lambda\\\\\n",
    "32y & 12\\\\\n",
    "\\end{vmatrix}=$$\n",
    "\n",
    "$$=(-2x)\\cdot (2x \\cdot (64+32\\lambda)-12\\cdot32y)+32y \\cdot(24x-(4+2\\lambda)\\cdot32y)=$$\n",
    "\n",
    "$$=-4x^2\\cdot(64+32\\lambda)+24x\\cdot32y+24x\\cdot32y-32^2y^2(4+2\\lambda)=$$\n",
    "\n",
    "$$=32\\cdot4(-x^2\\cdot(2+\\lambda)+6xy+6xy-8y^2(4+2\\lambda)=$$\n",
    "\n",
    "$$=128(-2x^2-x^2\\lambda+12xy-32y^2-16y^2\\lambda)=$$\n",
    "\n",
    "$$=128(-2(x^2+16y^2)-\\lambda(x^2+16y^2)+12xy)$$\n",
    "\n",
    "$x^2+16y^2=64$, тогда \n",
    "$$\\Delta=128(-2\\cdot64-\\lambda \\cdot64+12xy)=-512(32+16\\lambda-3xy)$$"
   ]
  },
  {
   "cell_type": "markdown",
   "metadata": {},
   "source": [
    "$$(-4\\sqrt{2},-\\sqrt{2},-\\frac{7}{2}):$$\n",
    "$$\\Delta=-512(32-16\\cdot\\frac{7}{2}-3\\cdot(-4\\sqrt{2})\\cdot(-\\sqrt{2}))=-512(32-56-24)>0$$\n",
    "$\\Delta>0$, следовательно $(-4\\sqrt{2},-\\sqrt{2},-\\frac{7}{2})$ - точка максимума.\n",
    "\n",
    "$$(-4\\sqrt{2},\\sqrt{2},-\\frac{1}{2}):$$\n",
    "$$\\Delta=-512(32-16\\cdot\\frac{1}{2}-3\\cdot(-4\\sqrt{2})\\cdot\\sqrt{2})=-512(32-8+24)<0$$\n",
    "$\\Delta<0$, следовательно $(-4\\sqrt{2},\\sqrt{2},-\\frac{1}{2})$ - точка минимума.\n",
    "\n",
    "$$(4\\sqrt{2},-\\sqrt{2},-\\frac{1}{2}):$$\n",
    "$$\\Delta=-512(32-16\\cdot\\frac{1}{2}-3\\cdot4\\sqrt{2}\\cdot(-\\sqrt{2}))=-512(32-8+24)<0$$\n",
    "$\\Delta<0$, следовательно $(4\\sqrt{2},-\\sqrt{2},-\\frac{1}{2})$ - точка минимума.\n",
    "\n",
    "$$(4\\sqrt{2},\\sqrt{2},-\\frac{7}{2}):$$\n",
    "$$\\Delta=-512(32-16\\cdot\\frac{7}{2}-3\\cdot4\\sqrt{2}\\cdot\\sqrt{2})=-512(32-56-24)>0$$\n",
    "$\\Delta>0$, следовательно $(4\\sqrt{2},\\sqrt{2},-\\frac{7}{2})$ - точка максимума."
   ]
  },
  {
   "cell_type": "code",
   "execution_count": null,
   "metadata": {},
   "outputs": [],
   "source": []
  }
 ],
 "metadata": {
  "kernelspec": {
   "display_name": "Python 3",
   "language": "python",
   "name": "python3"
  },
  "language_info": {
   "codemirror_mode": {
    "name": "ipython",
    "version": 3
   },
   "file_extension": ".py",
   "mimetype": "text/x-python",
   "name": "python",
   "nbconvert_exporter": "python",
   "pygments_lexer": "ipython3",
   "version": "3.8.5"
  }
 },
 "nbformat": 4,
 "nbformat_minor": 4
}
