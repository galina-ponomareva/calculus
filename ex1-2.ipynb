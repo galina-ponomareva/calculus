{
 "cells": [
  {
   "cell_type": "markdown",
   "metadata": {},
   "source": [
    "__1.__ Найти частные производные первого и второго порядка. Убедиться в равенстве смешанных производных.\n",
    "\n",
    "### $$U=x^3+3xy^2+z^2-39x-36y+2z+26$$"
   ]
  },
  {
   "cell_type": "markdown",
   "metadata": {},
   "source": [
    "$$U'_{x}=3x^2+3y^2-39$$\n",
    "$$U'_{y}=3x \\cdot 2y-36 = 6xy-36$$\n",
    "$$U'_{z}=2z+2$$\n",
    "\n",
    "$$U''_{xx}=6x$$\n",
    "$$U''_{yy}=6x$$\n",
    "$$U''_{zz}=2$$\n",
    "\n",
    "$$U''_{xy}=6y$$\n",
    "$$U''_{yx}=6y$$\n",
    "$$U''_{xy}=U''_{yx}$$\n",
    "\n",
    "$$U''_{xz}=0$$\n",
    "$$U''_{zx}=0$$\n",
    "$$U''_{xz}=U''_{zx}$$\n",
    "\n",
    "$$U''_{yz}=0$$\n",
    "$$U''_{zy}=0$$\n",
    "$$U''_{yz}=U''_{zy}$$"
   ]
  },
  {
   "cell_type": "markdown",
   "metadata": {},
   "source": [
    "__2.__ Найти частные производные первого и второго порядка. Убедиться в равенстве смешанных производных.\n",
    "\n",
    "### $$U=\\frac{256}{x}+\\frac{x^2}{y}+\\frac{y^2}{z}+z^2$$"
   ]
  },
  {
   "cell_type": "markdown",
   "metadata": {},
   "source": [
    "$$U'_{x}=-\\frac{256}{x^2}+\\frac{2x}{y}$$\n",
    "$$U'_{y}=-\\frac{x^2}{y^2}+\\frac{2y}{z}$$\n",
    "$$U'_{z}=-\\frac{y^2}{z^2}+2z$$\n",
    "\n",
    "$$U''_{xx}=\\frac{256 \\cdot 2}{x^3}+\\frac{2}{y}=\\frac{512}{x^3}+\\frac{2}{y}$$\n",
    "$$U''_{yy}=\\frac{2x^2}{y^3}+\\frac{2}{z}$$\n",
    "$$U''_{zz}=\\frac{2y^2}{z^3}+2$$\n",
    "\n",
    "$$U''_{xy}=-\\frac{2x}{y^2}$$\n",
    "$$U''_{yx}=-\\frac{2x}{y^2}$$\n",
    "$$U''_{xy}=U''_{yx}$$\n",
    "\n",
    "$$U''_{xz}=0$$\n",
    "$$U''_{zx}=0$$\n",
    "$$U''_{xz}=U''_{zx}$$\n",
    "\n",
    "$$U''_{yz}=-\\frac{2y}{z^2}$$\n",
    "$$U''_{zy}=-\\frac{2y}{z^2}$$\n",
    "$$U''_{yz}=U''_{zy}$$"
   ]
  },
  {
   "cell_type": "code",
   "execution_count": null,
   "metadata": {},
   "outputs": [],
   "source": []
  }
 ],
 "metadata": {
  "kernelspec": {
   "display_name": "Python 3",
   "language": "python",
   "name": "python3"
  },
  "language_info": {
   "codemirror_mode": {
    "name": "ipython",
    "version": 3
   },
   "file_extension": ".py",
   "mimetype": "text/x-python",
   "name": "python",
   "nbconvert_exporter": "python",
   "pygments_lexer": "ipython3",
   "version": "3.8.5"
  }
 },
 "nbformat": 4,
 "nbformat_minor": 4
}
