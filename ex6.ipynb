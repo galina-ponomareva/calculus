{
 "cells": [
  {
   "cell_type": "markdown",
   "metadata": {},
   "source": [
    "__6*.__ Прочитайте высказывания, установите их истинность и постройте противоположное высказывание:\n",
    "\n",
    "### $$a)\\,\\,\\, \\forall x\\in\\mathbb{R}\\,\\,\\,\\exists X\\in\\mathbb{R}:\\,\\,\\, X>x;$$\n",
    "### $$б)\\,\\,\\, \\forall y\\in\\Bigl[0; \\frac{\\pi}{2}\\Bigr]\\,\\,\\,\\exists \\varepsilon>0:\\,\\,\\, \\sin y<\\sin(y+\\varepsilon);$$\n",
    "### $$в)\\,\\,\\, \\forall y\\in\\Bigl[0; \\frac{\\pi}{2}\\Bigr)\\,\\,\\,\\exists \\varepsilon>0:\\,\\,\\, \\cos y>\\cos(y+\\varepsilon).$$"
   ]
  },
  {
   "cell_type": "markdown",
   "metadata": {},
   "source": [
    "a) Для любого действительного $x$ найдется действительное $X$, такое что $X$ больше $x$.  \n",
    "Для любого действительного числа найдется большее. Это верно.\n",
    "\n",
    "Противоположное высказывание:\n",
    "$$\\exists x\\in\\mathbb{R}\\,\\,\\,\\forall X\\in\\mathbb{R}:\\,\\,\\, X \\leqslant x$$\n",
    "Существует такое действительное $x$, что для любого действительного $X$ $X$ меньше или равно $x$.  \n",
    "То есть существует самое большое действительное число. Это неверно."
   ]
  },
  {
   "cell_type": "markdown",
   "metadata": {},
   "source": [
    "б) Для любого $у$ из диапазона от $0$ до $\\frac{\\pi}{2}$ включительно существует такое положительное $\\varepsilon$, что $\\sin y$ меньше $\\sin(y+\\varepsilon)$.  \n",
    "На промежутке $\\Bigl[0; \\frac{\\pi}{2}\\Bigr)$ функция $\\sin$ возрастает, поэтому для каждого $y\\in\\Bigl[0; \\frac{\\pi}{2}\\Bigr)$ можно найти искомое положительное $\\varepsilon$.  \n",
    "Однако при $y = \\frac{\\pi}{2}$ $\\sin y = 1$ - это максимум функции, то есть нет таких $\\varepsilon$, что $\\sin y$ меньше $\\sin(y+\\varepsilon)$.  \n",
    "Следовательно, исходное утверждение неверно.\n",
    "\n",
    "Противоположное высказывание:\n",
    "$$\\exists y\\in\\Bigl[0; \\frac{\\pi}{2}\\Bigr]\\,\\,\\,\\forall \\varepsilon>0:\\,\\,\\, \\sin y \\geqslant \\sin(y+\\varepsilon)$$\n",
    "Найдется такое $у$ из диапазона от $0$ до $\\frac{\\pi}{2}$ включительно, что для любого положительного $\\varepsilon$ $\\sin y$ больше либо равно $\\sin(y+\\varepsilon)$. Это верно."
   ]
  },
  {
   "cell_type": "markdown",
   "metadata": {},
   "source": [
    "в) Для любого $у$ из диапазона от $0$ до $\\frac{\\pi}{2}$, включая $0$ и не включая $\\frac{\\pi}{2}$, существует такое положительное $\\varepsilon$, что $\\cos y$ больше $\\cos(y+\\varepsilon)$.  \n",
    "На промежутке $\\Bigl[0; \\frac{\\pi}{2}\\Bigr)$ функция $\\cos$ убывает, поэтому для каждого $y\\in\\Bigl[0; \\frac{\\pi}{2}\\Bigr)$ можно найти искомое положительное $\\varepsilon$.  \n",
    "Следовательно, исходное утверждение верно.\n",
    "\n",
    "Противоположное высказывание:\n",
    "$$\\exists y\\in\\Bigl[0; \\frac{\\pi}{2}\\Bigr)\\,\\,\\,\\forall \\varepsilon>0:\\,\\,\\, \\cos y \\leqslant \\cos(y+\\varepsilon)$$\n",
    "Найдется такое $у$ из диапазона от $0$ до $\\frac{\\pi}{2}$, включая $0$ и не включая $\\frac{\\pi}{2}$, что для любого положительного $\\varepsilon$ $\\cos y$ меньше либо равно $\\cos(y+\\varepsilon)$. Это неверно."
   ]
  },
  {
   "cell_type": "code",
   "execution_count": null,
   "metadata": {},
   "outputs": [],
   "source": []
  }
 ],
 "metadata": {
  "kernelspec": {
   "display_name": "Python 3",
   "language": "python",
   "name": "python3"
  },
  "language_info": {
   "codemirror_mode": {
    "name": "ipython",
    "version": 3
   },
   "file_extension": ".py",
   "mimetype": "text/x-python",
   "name": "python",
   "nbconvert_exporter": "python",
   "pygments_lexer": "ipython3",
   "version": "3.8.5"
  }
 },
 "nbformat": 4,
 "nbformat_minor": 4
}
