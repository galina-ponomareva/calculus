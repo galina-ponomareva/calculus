{
 "cells": [
  {
   "cell_type": "markdown",
   "metadata": {},
   "source": [
    "__6*.__ Разложить функцию $y=e^x$ в ряд Маклорена, а так же в ряд Фурье на отрезке $[-\\pi, \\pi]$. Построить график функции и разложений."
   ]
  },
  {
   "cell_type": "markdown",
   "metadata": {},
   "source": [
    "$$f(x)=\\sum\\limits_{n=0}^{+\\infty}\\frac{f^{(n)}(0)}{n!}x^n$$\n",
    "\n",
    "$$e^x=\\frac{e^0}{0!}x^0+\\frac{e^0}{1!}x^1+\\frac{e^0}{2!}x^2+\\frac{e^0}{3!}x^3+\\,...\\,=1+x+\\frac{1}{2!}x^2+\\frac{1}{3!}x^3+\\,...\\,=$$\n",
    "\n",
    "$$e^x=\\sum\\limits_{n=0}^{+\\infty}\\frac{x^n}{n!}$$"
   ]
  },
  {
   "cell_type": "markdown",
   "metadata": {},
   "source": [
    "$$f(x)=a_{0}+\\sum\\limits_{n=1}^{+\\infty}(a_n\\cos nx+b_n\\sin nx)$$\n",
    "\n",
    "где\n",
    "\n",
    "$$a_0=\\frac{1}{2\\pi}\\int\\limits_{-\\pi}^\\pi f(x)\\,dx$$\n",
    "\n",
    "$$a_n=\\frac{1}{\\pi}\\int\\limits_{-\\pi}^\\pi f(x)\\cos nx\\,dx$$\n",
    "\n",
    "$$b_n=\\frac{1}{\\pi}\\int\\limits_{-\\pi}^\\pi f(x)\\sin nx\\,dx$$"
   ]
  },
  {
   "cell_type": "markdown",
   "metadata": {},
   "source": [
    "$$a_0=\\frac{1}{2\\pi}\\int\\limits_{-\\pi}^\\pi e^x\\,dx = \\frac{1}{2\\pi}\\Bigl(e^{\\pi}-e^{-\\pi}\\Bigr) = \\frac{1}{2\\pi}\\Bigl(e^{\\pi}-\\frac{1}{e^{\\pi}}\\Bigr)$$\n",
    "\n",
    "$$a_n=\\frac{1}{\\pi}\\int\\limits_{-\\pi}^\\pi e^x\\cos nx\\,dx$$\n",
    "\n",
    "$$U=e^{x}\\,\\,\\,\\,\\,\\Rightarrow\\,\\,\\,\\,\\, dU=e^{x}dx$$ \n",
    "$$dV=\\cos nx\\,dx\\,\\,\\,\\,\\,\\Rightarrow\\,\\,\\,\\,\\, V=\\frac{1}{n}\\sin nx$$\n",
    "\n",
    "$$a_n=\\frac{1}{\\pi}\\Bigl(\\frac{1}{n}e^x\\sin nx\\bigg|_{-\\pi}^{\\pi}-\\frac{1}{n}\\int\\limits_{-\\pi}^{\\pi} e^x\\sin nx\\,dx\\Bigr)=$$\n",
    "\n",
    "$$=\\frac{1}{\\pi}\\Bigl(\\frac{1}{n}e^{\\pi}\\sin (\\pi x)-\\frac{1}{n}e^{-\\pi}\\sin (-\\pi x) -\\frac{1}{n}\\int\\limits_{-\\pi}^{\\pi} e^x\\sin nx\\,dx\\Bigr)=$$\n",
    "\n",
    "$$=-\\frac{1}{\\pi n}\\int\\limits_{-\\pi}^{\\pi} e^x\\sin nx\\,dx$$\n",
    "\n",
    "$$U=e^{x}\\,\\,\\,\\,\\,\\Rightarrow\\,\\,\\,\\,\\, dU=e^{x}dx$$ \n",
    "$$dV=\\sin nx\\,dx\\,\\,\\,\\,\\,\\Rightarrow\\,\\,\\,\\,\\, V=-\\frac{1}{n}\\cos nx$$\n",
    "\n",
    "$$a_n=-\\frac{1}{\\pi n}\\Bigl(-\\frac{1}{n}e^x\\cos nx\\bigg|_{-\\pi}^{\\pi}+\\frac{1}{n}\\int\\limits_{-\\pi}^{\\pi} e^x\\cos nx\\,dx\\Bigr)=$$\n",
    "\n",
    "$$=\\frac{1}{\\pi n^2}e^x\\cos nx\\bigg|_{-\\pi}^{\\pi} - \\frac{1}{\\pi n^2}\\int\\limits_{-\\pi}^{\\pi} e^x\\cos nx\\,dx$$\n",
    "\n",
    "$$\\frac{1}{\\pi}\\int\\limits_{-\\pi}^\\pi e^x\\cos nx\\,dx+\\frac{1}{\\pi n^2}\\int\\limits_{-\\pi}^{\\pi} e^x\\cos nx\\,dx = \\frac{1}{\\pi n^2}e^x\\cos nx\\bigg|_{-\\pi}^{\\pi}$$\n",
    "\n",
    "$$\\frac{1}{\\pi}\\Bigl(1+\\frac{1}{n^2}\\Bigr)\\int\\limits_{-\\pi}^\\pi e^x\\cos nx\\,dx = \\frac{1}{\\pi n^2}e^{\\pi}\\cos (\\pi n) - \\frac{1}{\\pi n^2}e^{-\\pi}\\cos (-\\pi n)$$\n",
    "\n",
    "$$\\frac{1}{\\pi}\\Bigl(1+\\frac{1}{n^2}\\Bigr)\\int\\limits_{-\\pi}^\\pi e^x\\cos nx\\,dx = \\frac{(-1)^n}{\\pi n^2}e^{\\pi} - \\frac{(-1)^n}{\\pi n^2}e^{-\\pi}$$\n",
    "\n",
    "$$a_n=\\frac{1}{\\pi}\\int\\limits_{-\\pi}^\\pi e^x\\cos nx\\,dx = \\frac{(-1)^n}{\\pi n^2}\\Bigl(e^{\\pi} - \\frac{1}{e^{\\pi}}\\Bigr)\\frac{n^2}{n^2+1} = \\frac{(-1)^n}{\\pi (n^2+1)}\\Bigl(e^{\\pi} - \\frac{1}{e^{\\pi}}\\Bigr)$$\n",
    "\n",
    "$$b_n=\\frac{1}{\\pi}\\int\\limits_{-\\pi}^\\pi e^x\\sin nx\\,dx = -\\frac{1}{\\pi n}e^x\\cos nx\\bigg|_{-\\pi}^{\\pi}+\\frac{1}{\\pi n}\\int\\limits_{-\\pi}^{\\pi} e^x\\cos nx\\,dx=$$\n",
    "\n",
    "$$=-\\frac{1}{\\pi n}e^x\\cos nx\\bigg|_{-\\pi}^{\\pi}+\\frac{1}{\\pi n}\\cdot \\frac{(-1)^n}{n^2+1}\\Bigl(e^{\\pi} - \\frac{1}{e^{\\pi}}\\Bigr)=$$\n",
    "\n",
    "$$=-\\frac{1}{\\pi n}\\Bigl(e^{\\pi}\\cos (\\pi n)-e^{-\\pi}\\cos (-\\pi n)\\Bigr)+\\frac{1}{\\pi n}\\cdot \\frac{(-1)^n}{n^2+1}\\Bigl(e^{\\pi} - \\frac{1}{e^{\\pi}}\\Bigr)=$$\n",
    "\n",
    "$$=-\\frac{(-1)^n}{\\pi n}\\Bigl(e^{\\pi}-\\frac{1}{e^{\\pi}}\\Bigr)+\\frac{1}{\\pi n}\\cdot \\frac{(-1)^n}{n^2+1}\\Bigl(e^{\\pi} - \\frac{1}{e^{\\pi}}\\Bigr)=$$\n",
    "\n",
    "$$=\\frac{(-1)^n}{\\pi n}\\Bigl(e^{\\pi}-\\frac{1}{e^{\\pi}}\\Bigr)\\Bigl(-1+\\frac{1}{n^2+1}\\Bigr)=\\frac{(-1)^n}{\\pi n}\\Bigl(e^{\\pi}-\\frac{1}{e^{\\pi}}\\Bigr)\\frac{-n^2-1+1}{n^2+1}=$$\n",
    "\n",
    "$$=-\\frac{(-1)^n n}{\\pi(n^2+1)}\\Bigl(e^{\\pi}-\\frac{1}{e^{\\pi}}\\Bigr)$$"
   ]
  },
  {
   "cell_type": "markdown",
   "metadata": {},
   "source": [
    "$$e^x=\\frac{1}{2\\pi}\\Bigl(e^{\\pi}-\\frac{1}{e^{\\pi}}\\Bigr)+\\sum\\limits_{n=1}^{+\\infty}\\Bigl(\\frac{(-1)^n}{\\pi (n^2+1)}\\Bigl(e^{\\pi} - \\frac{1}{e^{\\pi}}\\Bigr)\\cos nx-\\frac{(-1)^n n}{\\pi(n^2+1)}\\Bigl(e^{\\pi}-\\frac{1}{e^{\\pi}}\\Bigr)\\sin nx\\Bigr)$$\n",
    "\n",
    "$$e^x=\\frac{1}{2\\pi}\\Bigl(e^{\\pi}-\\frac{1}{e^{\\pi}}\\Bigr)+\\frac{1}{\\pi}\\Bigl(e^{\\pi}-\\frac{1}{e^{\\pi}}\\Bigr) \\sum\\limits_{n=1}^{+\\infty}\\frac{(-1)^n}{n^2+1}\\Bigl(\\cos nx-n\\sin nx\\Bigr)$$"
   ]
  },
  {
   "cell_type": "code",
   "execution_count": 20,
   "metadata": {},
   "outputs": [
    {
     "data": {
      "image/png": "[encoded data removed]",
      "text/plain": [
       "<Figure size 432x288 with 1 Axes>"
      ]
     },
     "metadata": {
      "needs_background": "light"
     },
     "output_type": "display_data"
    }
   ],
   "source": [
    "import matplotlib.pyplot as plt\n",
    "import numpy as np\n",
    "%matplotlib inline\n",
    "\n",
    "n = 10000\n",
    "a = -np.pi\n",
    "b = np.pi\n",
    "delta = (b - a) / n\n",
    "x = np.arange(a, b, delta)\n",
    "x = np.append(x,b)\n",
    "\n",
    "maclaurin = []\n",
    "fourier = []\n",
    "\n",
    "for i in x:\n",
    "    maclaurin_i = np.array([(i**j)/np.math.factorial(j) for j in range(0,101)])\n",
    "    maclaurin = np.append(maclaurin, maclaurin_i.sum())\n",
    "    fourier_i = np.array([((-1)**j)/(j**2+1)*(np.cos(j*i)-j*np.sin(j*i)) for j in range(1,101)])\n",
    "    fourier = np.append(fourier, (np.exp(np.pi)-np.exp(-np.pi))/(2*np.pi)+(np.exp(np.pi)-np.exp(-np.pi))/np.pi*fourier_i.sum())\n",
    "    \n",
    "plt.plot(x, np.exp(x), label = 'exponent')\n",
    "plt.plot(x, maclaurin, label = 'maclaurin')\n",
    "plt.plot(x, fourier, label = 'fourier')\n",
    "\n",
    "plt.grid()\n",
    "plt.legend()\n",
    "plt.show()"
   ]
  },
  {
   "cell_type": "code",
   "execution_count": null,
   "metadata": {},
   "outputs": [],
   "source": []
  }
 ],
 "metadata": {
  "kernelspec": {
   "display_name": "Python 3",
   "language": "python",
   "name": "python3"
  },
  "language_info": {
   "codemirror_mode": {
    "name": "ipython",
    "version": 3
   },
   "file_extension": ".py",
   "mimetype": "text/x-python",
   "name": "python",
   "nbconvert_exporter": "python",
   "pygments_lexer": "ipython3",
   "version": "3.8.5"
  }
 },
 "nbformat": 4,
 "nbformat_minor": 4
}
