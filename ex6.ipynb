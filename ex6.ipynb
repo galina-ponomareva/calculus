{
 "cells": [
  {
   "cell_type": "markdown",
   "metadata": {},
   "source": [
    "__6.__ Исследовать на экстремум функцию:\n",
    "\n",
    "### $$U=x^2y+\\frac{1}{3}y^3+2x^2+3y^2-1$$"
   ]
  },
  {
   "cell_type": "markdown",
   "metadata": {},
   "source": [
    "$$\\begin{cases}\n",
    "   U'_{x}=2xy+4x=0, \\\\\n",
    "   U'_{y}=x^2+y^2+6y=0 \n",
    " \\end{cases}$$\n",
    " \n",
    "$$\\begin{cases}\n",
    "   2x(y+2)=0, \\\\\n",
    "   x^2+y^2+6y=0 \n",
    " \\end{cases}$$\n",
    " \n",
    "$$x=0:$$\n",
    "$$y^2+6y=0$$\n",
    "$$y(y+6)=0$$\n",
    "$$y=0, y=-6$$\n",
    "\n",
    "$$y=-2:$$\n",
    "$$x^2+4-12=0$$\n",
    "$$x^2=8$$\n",
    "$$x=2\\sqrt{2}, x=-2\\sqrt{2}$$\n",
    "\n",
    "Итого имеем четыре стационарные точки: $(0,0)$, $(0,-6)$, $(2\\sqrt{2},-2)$ и $(-2\\sqrt{2},-2)$."
   ]
  },
  {
   "cell_type": "markdown",
   "metadata": {},
   "source": [
    "$$U''_{xx}=2y+4$$\n",
    "$$U''_{xy}=U''_{yx}=2x$$\n",
    "$$U''_{yy}=2y+6$$\n",
    "\n",
    "$$(0,0):$$\n",
    "Матрица Гёссе имеет вид:\n",
    "\n",
    "$$\\begin{pmatrix}\n",
    "4 & 0\\\\ \n",
    "0 & 6\\\\\n",
    "\\end{pmatrix}$$\n",
    "\n",
    "$$\\Delta_{1}=4>0$$\n",
    "\n",
    "$$\\Delta_{2}=\\begin{vmatrix}\n",
    "4 & 0\\\\ \n",
    "0 & 6\\\\\n",
    "\\end{vmatrix}=4\\cdot6-0^2=24>0$$\n",
    "\n",
    "Оба минора положительные, это говорит о том, что точка (0,0) является точкой минимума."
   ]
  },
  {
   "cell_type": "markdown",
   "metadata": {},
   "source": [
    "$$(0,-6):$$\n",
    "Матрица Гёссе имеет вид:\n",
    "\n",
    "$$\\begin{pmatrix}\n",
    "-8 & 0\\\\ \n",
    "0 & -6\\\\\n",
    "\\end{pmatrix}$$\n",
    "\n",
    "$$\\Delta_{1}=-8<0$$\n",
    "\n",
    "$$\\Delta_{2}=\\begin{vmatrix}\n",
    "-8 & 0\\\\ \n",
    "0 & -6\\\\\n",
    "\\end{vmatrix}=-8\\cdot(-6)-0^2=48>0$$\n",
    "\n",
    "Первый минор отрицательный, второй поменял знак. Это говорит о том, что точка (0,-6) является точкой максимума."
   ]
  },
  {
   "cell_type": "markdown",
   "metadata": {},
   "source": [
    "$$(2\\sqrt{2},-2):$$\n",
    "Матрица Гёссе имеет вид:\n",
    "\n",
    "$$\\begin{pmatrix}\n",
    "0 & 4\\sqrt{2}\\\\ \n",
    "4\\sqrt{2} & 2\\\\\n",
    "\\end{pmatrix}$$\n",
    "\n",
    "$$\\Delta_{1}=0$$\n",
    "\n",
    "Перепишем матрицу Гёссе в виде\n",
    "\n",
    "$$\\begin{pmatrix}\n",
    "U''_{yy} & U''_{yx}\\\\ \n",
    "U''_{xy} & U''_{xx}\\\\\n",
    "\\end{pmatrix}$$\n",
    "\n",
    "$$\\begin{pmatrix}\n",
    "2 & 4\\sqrt{2}\\\\ \n",
    "4\\sqrt{2} & 0\\\\\n",
    "\\end{pmatrix}$$\n",
    "\n",
    "$$\\Delta_{1}=2>0$$\n",
    "\n",
    "$$\\Delta_{2}=\\begin{vmatrix}\n",
    "2 & 4\\sqrt{2}\\\\ \n",
    "4\\sqrt{2} & 0\\\\\n",
    "\\end{vmatrix}=2\\cdot0-(4\\sqrt{2})^2=-32<0$$\n",
    "\n",
    "Первый минор положительный, второй отрицательный. Это говорит о том, что точка $(2\\sqrt{2},-2)$ является седловой."
   ]
  },
  {
   "cell_type": "markdown",
   "metadata": {},
   "source": [
    "$$(-2\\sqrt{2},-2):$$\n",
    "Запишем матрицу Гёссе в виде\n",
    "\n",
    "$$\\begin{pmatrix}\n",
    "U''_{yy} & U''_{yx}\\\\ \n",
    "U''_{xy} & U''_{xx}\\\\\n",
    "\\end{pmatrix}$$\n",
    "\n",
    "$$\\begin{pmatrix}\n",
    "2 & -4\\sqrt{2}\\\\ \n",
    "-4\\sqrt{2} & 0\\\\\n",
    "\\end{pmatrix}$$\n",
    "\n",
    "$$\\Delta_{1}=2>0$$\n",
    "\n",
    "$$\\Delta_{2}=\\begin{vmatrix}\n",
    "2 & 4\\sqrt{2}\\\\ \n",
    "4\\sqrt{2} & 0\\\\\n",
    "\\end{vmatrix}=2\\cdot0-(-4\\sqrt{2})^2=-32<0$$\n",
    "\n",
    "Первый минор положительный, второй отрицательный. Это говорит о том, что точка $(-2\\sqrt{2},-2)$ является седловой."
   ]
  }
 ],
 "metadata": {
  "kernelspec": {
   "display_name": "Python 3",
   "language": "python",
   "name": "python3"
  },
  "language_info": {
   "codemirror_mode": {
    "name": "ipython",
    "version": 3
   },
   "file_extension": ".py",
   "mimetype": "text/x-python",
   "name": "python",
   "nbconvert_exporter": "python",
   "pygments_lexer": "ipython3",
   "version": "3.8.5"
  }
 },
 "nbformat": 4,
 "nbformat_minor": 4
}
