{
 "cells": [
  {
   "cell_type": "markdown",
   "metadata": {},
   "source": [
    "__2.__ Представьте $1$ в виде суммы трех рациональных дробей с разными знаменателями и числителем равным $1$."
   ]
  },
  {
   "cell_type": "markdown",
   "metadata": {},
   "source": [
    "В задании 1е было показано:\n",
    "$$\\lim_{n\\to \\infty} \\Bigl(\\frac{1}{1\\cdot2}+\\frac{1}{2\\cdot3}+\\frac{1}{3\\cdot4}+...+\\frac{1}{(n-1)\\cdot n}\\Bigr) = 1$$"
   ]
  },
  {
   "cell_type": "markdown",
   "metadata": {},
   "source": [
    "По аналогии с 1е перепишем сумму:\n",
    "$$1 = \\frac{1}{1\\cdot2}+\\frac{1}{2\\cdot3}+\\lim_{n\\to \\infty} \\Bigl(\\frac{1}{3\\cdot4}+...+\\frac{1}{(n-1)\\cdot n}\\Bigr) = \\frac{1}{1\\cdot2}+\\frac{1}{2\\cdot3}+\\lim_{n\\to \\infty} \\Bigl(\\frac{1}{3}-\\frac{1}{n}\\Bigr)$$\n",
    "\n",
    "$$1 = \\frac{1}{2}+\\frac{1}{6}+\\frac{1}{3}$$"
   ]
  },
  {
   "cell_type": "markdown",
   "metadata": {},
   "source": [
    "__3$^*$.__ То же задание, только в виде суммы шести дробей."
   ]
  },
  {
   "cell_type": "markdown",
   "metadata": {},
   "source": [
    "$$1 = \\frac{1}{1\\cdot2}+\\frac{1}{2\\cdot3}+\\frac{1}{3\\cdot4}+\\frac{1}{4\\cdot5}+\\frac{1}{5\\cdot6}+\\lim_{n\\to \\infty} \\Bigl(\\frac{1}{6\\cdot7}+...+\\frac{1}{(n-1)\\cdot n}\\Bigr) =$$\n",
    "\n",
    "$$= \\frac{1}{2}+\\Bigl(\\frac{10}{60}+\\frac{5}{60}+\\frac{3}{60}+\\frac{2}{60}\\Bigr)+\\lim_{n\\to \\infty} \\Bigl(\\frac{1}{6\\cdot7}+...+\\frac{1}{(n-1)\\cdot n}\\Bigr) = $$\n",
    "\n",
    "$$= \\frac{1}{2}+\\frac{1}{3}+\\frac{1}{6\\cdot7}+\\frac{1}{7\\cdot8}+\\frac{1}{8\\cdot9}+\\lim_{n\\to \\infty} \\Bigl(\\frac{1}{9\\cdot10}+...+\\frac{1}{(n-1)\\cdot n}\\Bigr) = $$\n",
    "\n",
    "$$= \\frac{1}{2}+\\frac{1}{3}+\\frac{1}{42}+\\frac{1}{56}+\\frac{1}{72}+\\lim_{n\\to \\infty} \\Bigl(\\frac{1}{9}-\\frac{1}{n}\\Bigr)$$\n",
    "\n",
    "$$1 = \\frac{1}{2}+\\frac{1}{3}+\\frac{1}{42}+\\frac{1}{56}+\\frac{1}{72}+\\frac{1}{9}$$"
   ]
  },
  {
   "cell_type": "code",
   "execution_count": null,
   "metadata": {},
   "outputs": [],
   "source": []
  }
 ],
 "metadata": {
  "kernelspec": {
   "display_name": "Python 3",
   "language": "python",
   "name": "python3"
  },
  "language_info": {
   "codemirror_mode": {
    "name": "ipython",
    "version": 3
   },
   "file_extension": ".py",
   "mimetype": "text/x-python",
   "name": "python",
   "nbconvert_exporter": "python",
   "pygments_lexer": "ipython3",
   "version": "3.8.5"
  }
 },
 "nbformat": 4,
 "nbformat_minor": 4
}
