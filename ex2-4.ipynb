{
 "cells": [
  {
   "cell_type": "markdown",
   "metadata": {},
   "source": [
    "__2.__ Исследовать сходимость ряда\n",
    "\n",
    "### $$\\frac{1000}{1!}+\\frac{1000^2}{2!}+\\,...\\,+\\frac{1000^n}{n!}+\\,...\\,=\\sum\\limits_{n=1}^{+\\infty}\\frac{1000^n}{n!}$$"
   ]
  },
  {
   "cell_type": "markdown",
   "metadata": {},
   "source": [
    "Найдем предел:\n",
    "\n",
    "$$\\lim_{n\\to +\\infty}\\frac{a_{n+1}}{a_{n}}=\\lim_{n\\to +\\infty}\\frac{1000^{n+1}}{(n+1)!}:\\frac{1000^n}{n!}=\\lim_{n\\to +\\infty}\\frac{1000 \\cdot 1000^n \\cdot n!}{(n+1) \\cdot n! \\cdot 1000^n}=$$\n",
    "\n",
    "$$=\\lim_{n\\to +\\infty}\\frac{1000}{n+1}=0$$\n",
    "\n",
    "т.к. предел равен $0<1$, то ряд сходится по признаку д’Аламбера."
   ]
  },
  {
   "cell_type": "markdown",
   "metadata": {},
   "source": [
    "__3*.__ Исследовать сходимость ряда\n",
    "\n",
    "### $$\\frac{2\\cdot1!}{1}+\\frac{2^2\\cdot2!}{2^2}+\\,...\\,+\\frac{2^n\\cdot n!}{n^n}+\\,...\\,=\\sum\\limits_{n=1}^{+\\infty}\\frac{2^n\\cdot n!}{n^n}$$"
   ]
  },
  {
   "cell_type": "markdown",
   "metadata": {},
   "source": [
    "Найдем предел:\n",
    "\n",
    "$$\\lim_{n\\to +\\infty}\\frac{a_{n+1}}{a_{n}}=\\lim_{n\\to +\\infty}\\frac{2^{n+1}\\cdot (n+1)!}{(n+1)^{n+1}}:\\frac{2^n\\cdot n!}{n^n}=\\lim_{n\\to +\\infty}\\frac{2 \\cdot 2^n \\cdot (n+1) \\cdot n! \\cdot n^n}{(n+1) \\cdot (n+1)^{n} \\cdot 2^n \\cdot n!}=$$\n",
    "\n",
    "$$=2\\lim_{n\\to +\\infty}\\Bigl(\\frac{n}{n+1}\\Bigr)^{n} = 2\\lim_{n\\to +\\infty}\\Bigl(\\frac{n+1}{n}\\Bigr)^{-n} = 2\\lim_{n\\to +\\infty}\\Bigl(1+\\frac{1}{n}\\Bigr)^{-n}=$$\n",
    "\n",
    "$$=\\frac{2}{\\lim_{n\\to +\\infty}\\Bigl(1+\\frac{1}{n}\\Bigr)^{n}}=\\frac{2}{e}$$\n",
    "\n",
    "т.к. предел равен $\\frac{2}{e}<1$, то ряд сходится по признаку д’Аламбера."
   ]
  },
  {
   "cell_type": "markdown",
   "metadata": {},
   "source": [
    "__4*.__ Исследовать сходимость ряда\n",
    "\n",
    "### $$\\frac{3\\cdot1!}{1}+\\frac{3^2\\cdot2!}{2^2}+\\,...\\,+\\frac{3^n\\cdot n!}{n^n}+\\,...\\,=\\sum\\limits_{n=1}^{+\\infty}\\frac{3^n\\cdot n!}{n^n}$$"
   ]
  },
  {
   "cell_type": "markdown",
   "metadata": {},
   "source": [
    "Найдем предел:\n",
    "\n",
    "$$\\lim_{n\\to +\\infty}\\frac{a_{n+1}}{a_{n}}=\\lim_{n\\to +\\infty}\\frac{3^{n+1}\\cdot (n+1)!}{(n+1)^{n+1}}:\\frac{3^n\\cdot n!}{n^n}=\\lim_{n\\to +\\infty}\\frac{3 \\cdot 3^n \\cdot (n+1) \\cdot n! \\cdot n^n}{(n+1) \\cdot (n+1)^{n} \\cdot 3^n \\cdot n!}=$$\n",
    "\n",
    "$$=3\\lim_{n\\to +\\infty}\\Bigl(\\frac{n}{n+1}\\Bigr)^{n} = 3\\lim_{n\\to +\\infty}\\Bigl(\\frac{n+1}{n}\\Bigr)^{-n} = 3\\lim_{n\\to +\\infty}\\Bigl(1+\\frac{1}{n}\\Bigr)^{-n}=$$\n",
    "\n",
    "$$=\\frac{3}{\\lim_{n\\to +\\infty}\\Bigl(1+\\frac{1}{n}\\Bigr)^{n}}=\\frac{3}{e}$$\n",
    "\n",
    "т.к. предел равен $\\frac{3}{e}>1$, то ряд расходится по признаку д’Аламбера."
   ]
  },
  {
   "cell_type": "code",
   "execution_count": null,
   "metadata": {},
   "outputs": [],
   "source": []
  }
 ],
 "metadata": {
  "kernelspec": {
   "display_name": "Python 3",
   "language": "python",
   "name": "python3"
  },
  "language_info": {
   "codemirror_mode": {
    "name": "ipython",
    "version": 3
   },
   "file_extension": ".py",
   "mimetype": "text/x-python",
   "name": "python",
   "nbconvert_exporter": "python",
   "pygments_lexer": "ipython3",
   "version": "3.8.5"
  }
 },
 "nbformat": 4,
 "nbformat_minor": 4
}
