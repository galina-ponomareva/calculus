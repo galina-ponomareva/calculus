{
 "cells": [
  {
   "cell_type": "markdown",
   "metadata": {},
   "source": [
    "__1.__ Найти предел последовательности:\n",
    "\n",
    "##### $$а)\\,\\,\\,\\,\\lim_{n\\to \\infty} \\frac{(23-2n^2)(3n^2+17)^2}{4n^6+n-1}$$\n",
    "\n",
    "##### $$б)\\,\\,\\,\\,\\lim_{n\\to \\infty} \\frac{(97-2n)^3}{2n(3n^2+15)+8n}$$\n",
    "\n",
    "##### $$в)\\,\\,\\,\\,\\lim_{n\\to \\infty} \\frac{2n^3+13n(n+18)}{(27-n)(2n+19)^2}$$\n",
    "\n",
    "##### $$г)\\,\\,\\,\\,\\lim_{n\\to \\infty} (\\sqrt{n^2+1}-n)$$\n",
    "\n",
    "##### $$д)\\,\\,\\,\\,\\lim_{n\\to \\infty} \\frac{(-4)^n+5\\cdot7^n}{(-4)^{n-1}+7^{n+2}}$$\n",
    "\n",
    "##### $$e)^*\\,\\,\\,\\,\\lim_{n\\to \\infty} \\Bigl(\\frac{1}{1\\cdot2}+\\frac{1}{2\\cdot3}+\\frac{1}{3\\cdot4}+...+\\frac{1}{(n-1)\\cdot n}\\Bigr)$$"
   ]
  },
  {
   "cell_type": "markdown",
   "metadata": {},
   "source": [
    "##### $$а)\\,\\,\\,\\,\\lim_{n\\to \\infty} \\frac{(23-2n^2)(3n^2+17)^2}{4n^6+n-1} = \\Bigl(\\frac{\\infty}{\\infty}\\Bigr) = \\frac{(-2)\\cdot3^2}{4}=-\\frac{9}{2}$$"
   ]
  },
  {
   "cell_type": "markdown",
   "metadata": {},
   "source": [
    "##### $$б)\\,\\,\\,\\,\\lim_{n\\to \\infty} \\frac{(97-2n)^3}{2n(3n^2+15)+8n} = \\Bigl(\\frac{\\infty}{\\infty}\\Bigr) = \\frac{(-2)^3}{2\\cdot3}=-\\frac{4}{3}$$"
   ]
  },
  {
   "cell_type": "markdown",
   "metadata": {},
   "source": [
    "##### $$в)\\,\\,\\,\\,\\lim_{n\\to \\infty} \\frac{2n^3+13n(n+18)}{(27-n)(2n+19)^2} = \\Bigl(\\frac{\\infty}{\\infty}\\Bigr) = \\frac{2}{-1\\cdot2^2}=-\\frac{1}{2}$$"
   ]
  },
  {
   "cell_type": "markdown",
   "metadata": {},
   "source": [
    "##### $$г)\\,\\,\\,\\,\\lim_{n\\to \\infty} (\\sqrt{n^2+1}-n) = (\\infty-\\infty) = \\lim_{n\\to \\infty} (\\sqrt{n^2+1}-n) \\cdot \\frac{\\sqrt{n^2+1}+n}{\\sqrt{n^2+1}+n} = $$\n",
    "##### $$ = \\lim_{n\\to \\infty} \\frac{n^2+1-n^2}{\\sqrt{n^2+1}+n} = \\lim_{n\\to \\infty} \\frac{1}{\\sqrt{n^2+1}+n} = \\Bigl(\\frac{1}{\\infty}\\Bigr) = 0$$"
   ]
  },
  {
   "cell_type": "markdown",
   "metadata": {},
   "source": [
    "##### $$д)\\,\\,\\,\\,\\lim_{n\\to \\infty} \\frac{(-4)^n+5\\cdot7^n}{(-4)^{n-1}+7^{n+2}} = \\Bigl(\\frac{\\infty}{\\infty}\\Bigr) = \\lim_{n\\to \\infty} \\frac{7^n\\Bigl(\\Bigl(-\\frac{4}{7}\\Bigr)^n+5\\Bigr)}{7^n\\Bigl(-\\frac{1}{4}\\Bigl(-\\frac{4}{7}\\Bigr)^n+49\\Bigr)}=\\frac{5}{49}$$"
   ]
  },
  {
   "cell_type": "markdown",
   "metadata": {},
   "source": [
    "##### $$e)^*\\,\\,\\,\\,\\lim_{n\\to \\infty} \\Bigl(\\frac{1}{1\\cdot2}+\\frac{1}{2\\cdot3}+\\frac{1}{3\\cdot4}+...+\\frac{1}{(n-1)\\cdot n}\\Bigr)$$\n",
    "$$\\frac{1}{(n-1)\\cdot n} = \\frac{n-n+1}{(n-1)\\cdot n} = \\frac{n-(n-1)}{(n-1)\\cdot n} = \\frac{n}{(n-1)\\cdot n} - \\frac{n-1}{(n-1)\\cdot n} = \\frac{1}{n-1} - \\frac{1}{n}$$\n",
    "\n",
    "Тогда предел запишется следующим образом:\n",
    "\n",
    "$$\\lim_{n\\to \\infty} \\Bigl(\\frac{1}{1}-\\frac{1}{2}+\\frac{1}{2}-\\frac{1}{3}+\\frac{1}{3}-\\frac{1}{4}+...+\\frac{1}{n-1} - \\frac{1}{n}\\Bigr) = \\lim_{n\\to \\infty} \\Bigl(1- \\frac{1}{n}\\Bigr) = 1-0 = 1$$"
   ]
  },
  {
   "cell_type": "code",
   "execution_count": 1,
   "metadata": {},
   "outputs": [],
   "source": [
    "from sympy import *\n",
    "init_printing()"
   ]
  },
  {
   "cell_type": "code",
   "execution_count": 5,
   "metadata": {},
   "outputs": [
    {
     "data": {
      "image/png": "[encoded data removed]",
      "text/latex": [
       "$\\displaystyle \\frac{\\left(23 - 2 n^{2}\\right) \\left(3 n^{2} + 17\\right)^{2}}{4 n^{6} + n - 1}$"
      ],
      "text/plain": [
       "                       2\n",
       "⎛        2⎞ ⎛   2     ⎞ \n",
       "⎝23 - 2⋅n ⎠⋅⎝3⋅n  + 17⎠ \n",
       "────────────────────────\n",
       "         6              \n",
       "      4⋅n  + n - 1      "
      ]
     },
     "execution_count": 5,
     "metadata": {},
     "output_type": "execute_result"
    }
   ],
   "source": [
    "n=Symbol('n')\n",
    "a=((23-2*n**2)*(3*n**2+17)**2)/(4*n**6+n-1)\n",
    "a"
   ]
  },
  {
   "cell_type": "code",
   "execution_count": 6,
   "metadata": {},
   "outputs": [
    {
     "data": {
      "image/png": "[encoded data removed]",
      "text/latex": [
       "$\\displaystyle - \\frac{9}{2}$"
      ],
      "text/plain": [
       "-9/2"
      ]
     },
     "execution_count": 6,
     "metadata": {},
     "output_type": "execute_result"
    }
   ],
   "source": [
    "limit (a,n,oo)"
   ]
  },
  {
   "cell_type": "code",
   "execution_count": 7,
   "metadata": {},
   "outputs": [
    {
     "data": {
      "image/png": "[encoded data removed]",
      "text/latex": [
       "$\\displaystyle \\frac{\\left(97 - 2 n\\right)^{3}}{2 n \\left(3 n^{2} + 15\\right) + 8 n}$"
      ],
      "text/plain": [
       "               3     \n",
       "     (97 - 2⋅n)      \n",
       "─────────────────────\n",
       "    ⎛   2     ⎞      \n",
       "2⋅n⋅⎝3⋅n  + 15⎠ + 8⋅n"
      ]
     },
     "execution_count": 7,
     "metadata": {},
     "output_type": "execute_result"
    }
   ],
   "source": [
    "n=Symbol('n')\n",
    "a=((97-2*n)**3)/(2*n*(3*n**2+15)+8*n)\n",
    "a"
   ]
  },
  {
   "cell_type": "code",
   "execution_count": 8,
   "metadata": {},
   "outputs": [
    {
     "data": {
      "image/png": "[encoded data removed]",
      "text/latex": [
       "$\\displaystyle - \\frac{4}{3}$"
      ],
      "text/plain": [
       "-4/3"
      ]
     },
     "execution_count": 8,
     "metadata": {},
     "output_type": "execute_result"
    }
   ],
   "source": [
    "limit (a,n,oo)"
   ]
  },
  {
   "cell_type": "code",
   "execution_count": 15,
   "metadata": {},
   "outputs": [
    {
     "data": {
      "image/png": "[encoded data removed]",
      "text/latex": [
       "$\\displaystyle \\frac{2 n^{3} + 13 n \\left(n + 18\\right)}{\\left(27 - n\\right) \\left(2 n + 19\\right)^{2}}$"
      ],
      "text/plain": [
       "   3                \n",
       "2⋅n  + 13⋅n⋅(n + 18)\n",
       "────────────────────\n",
       "                   2\n",
       "(27 - n)⋅(2⋅n + 19) "
      ]
     },
     "execution_count": 15,
     "metadata": {},
     "output_type": "execute_result"
    }
   ],
   "source": [
    "n=Symbol('n')\n",
    "a=(2*n**3+13*n*(n+18))/((27-n)*(2*n+19)**2)\n",
    "a"
   ]
  },
  {
   "cell_type": "code",
   "execution_count": 16,
   "metadata": {},
   "outputs": [
    {
     "data": {
      "image/png": "[encoded data removed]",
      "text/latex": [
       "$\\displaystyle - \\frac{1}{2}$"
      ],
      "text/plain": [
       "-1/2"
      ]
     },
     "execution_count": 16,
     "metadata": {},
     "output_type": "execute_result"
    }
   ],
   "source": [
    "limit (a,n,oo)"
   ]
  },
  {
   "cell_type": "code",
   "execution_count": 17,
   "metadata": {},
   "outputs": [
    {
     "data": {
      "image/png": "[encoded data removed]",
      "text/latex": [
       "$\\displaystyle - n + \\left(n^{2} + 1\\right)^{0.5}$"
      ],
      "text/plain": [
       "             0.5\n",
       "     ⎛ 2    ⎞   \n",
       "-n + ⎝n  + 1⎠   "
      ]
     },
     "execution_count": 17,
     "metadata": {},
     "output_type": "execute_result"
    }
   ],
   "source": [
    "n=Symbol('n')\n",
    "a=(n**2+1)**0.5-n\n",
    "a"
   ]
  },
  {
   "cell_type": "code",
   "execution_count": 18,
   "metadata": {},
   "outputs": [
    {
     "data": {
      "image/png": "[encoded data removed]",
      "text/latex": [
       "$\\displaystyle 0$"
      ],
      "text/plain": [
       "0"
      ]
     },
     "execution_count": 18,
     "metadata": {},
     "output_type": "execute_result"
    }
   ],
   "source": [
    "limit (a,n,oo)"
   ]
  },
  {
   "cell_type": "code",
   "execution_count": null,
   "metadata": {},
   "outputs": [],
   "source": []
  }
 ],
 "metadata": {
  "kernelspec": {
   "display_name": "Python 3",
   "language": "python",
   "name": "python3"
  },
  "language_info": {
   "codemirror_mode": {
    "name": "ipython",
    "version": 3
   },
   "file_extension": ".py",
   "mimetype": "text/x-python",
   "name": "python",
   "nbconvert_exporter": "python",
   "pygments_lexer": "ipython3",
   "version": "3.8.5"
  }
 },
 "nbformat": 4,
 "nbformat_minor": 4
}
