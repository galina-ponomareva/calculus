{
 "cells": [
  {
   "cell_type": "markdown",
   "metadata": {},
   "source": [
    "__1.__ Исследовать сходимость ряда. \n",
    "\n",
    "\n",
    "### $$\\frac{1}{2\\sqrt2}+\\frac{1}{3\\sqrt3}+\\,...\\,+\\frac{1}{(n+1)\\sqrt{n+1}}+\\,...\\,=\\sum\\limits_{n=1}^{+\\infty}\\frac{1}{(n+1)\\sqrt{n+1}}$$\n",
    "\n",
    "(*) Двумя различными признаками."
   ]
  },
  {
   "cell_type": "markdown",
   "metadata": {},
   "source": [
    "$$\\frac{1}{2\\sqrt2}+\\frac{1}{3\\sqrt3}+\\,...\\,+\\frac{1}{(n+1)\\sqrt{n+1}}+\\,...\\,\\,\\,\\,\\,\\,\\sim\\,\\,\\,\\,\\,\\,O\\Bigr(\\frac{1}{n^{1.5}}\\Bigl)$$\n",
    "\n",
    "т.к. степень равна $1.5>1$, то ряд сходится по второму признаку сравнения."
   ]
  },
  {
   "cell_type": "markdown",
   "metadata": {},
   "source": [
    "Докажем сходимость этого ряда найдя интеграл:\n",
    "\n",
    "$$\\int\\limits_{1}^{+\\infty}\\frac{dx}{(x+1)\\sqrt{x+1}}$$"
   ]
  },
  {
   "cell_type": "markdown",
   "metadata": {},
   "source": [
    "$$\\int\\limits_{1}^{+\\infty}\\frac{dx}{(x+1)\\sqrt{x+1}} = \\int\\limits_{1}^{+\\infty}\\frac{dx}{(x+1)^{1.5}}=$$\n",
    "\n",
    "$$=\\lim_{b\\to +\\infty}\\int\\limits_{1}^{b}\\frac{dx}{(x+1)^{1.5}} = \\lim_{b\\to +\\infty}\\Bigl(-\\frac{2}{\\sqrt{b+1}}\\Bigr)-\\Bigl(-\\frac{2}{\\sqrt{2}}\\Bigr)=$$\n",
    "\n",
    "$$=0+\\sqrt{2}=\\sqrt{2}$$\n",
    "\n",
    "Интеграл посчитать получилось, следовательно ряд сходится согласно интегральному признаку Коши."
   ]
  },
  {
   "cell_type": "code",
   "execution_count": 1,
   "metadata": {},
   "outputs": [],
   "source": [
    "from sympy import *\n",
    "init_printing()"
   ]
  },
  {
   "cell_type": "code",
   "execution_count": 2,
   "metadata": {},
   "outputs": [
    {
     "data": {
      "image/png": "[encoded data removed]",
      "text/latex": [
       "$\\displaystyle \\left(x + 1\\right)^{-1.5}$"
      ],
      "text/plain": [
       "       -1.5\n",
       "(x + 1)    "
      ]
     },
     "execution_count": 2,
     "metadata": {},
     "output_type": "execute_result"
    }
   ],
   "source": [
    "x=Symbol('x')\n",
    "f=1/((x+1)*(x+1)**0.5)\n",
    "f"
   ]
  },
  {
   "cell_type": "code",
   "execution_count": 4,
   "metadata": {},
   "outputs": [
    {
     "data": {
      "image/png": "[encoded data removed]",
      "text/latex": [
       "$\\displaystyle 1.41421356237309$"
      ],
      "text/plain": [
       "1.41421356237309"
      ]
     },
     "execution_count": 4,
     "metadata": {},
     "output_type": "execute_result"
    }
   ],
   "source": [
    "integrate(f,(x, 1, +oo))"
   ]
  },
  {
   "cell_type": "code",
   "execution_count": null,
   "metadata": {},
   "outputs": [],
   "source": []
  }
 ],
 "metadata": {
  "kernelspec": {
   "display_name": "Python 3",
   "language": "python",
   "name": "python3"
  },
  "language_info": {
   "codemirror_mode": {
    "name": "ipython",
    "version": 3
   },
   "file_extension": ".py",
   "mimetype": "text/x-python",
   "name": "python",
   "nbconvert_exporter": "python",
   "pygments_lexer": "ipython3",
   "version": "3.8.5"
  }
 },
 "nbformat": 4,
 "nbformat_minor": 4
}
