{
 "cells": [
  {
   "cell_type": "markdown",
   "metadata": {},
   "source": [
    "__1.__ Представьте в виде __несократимой__ рациональной дроби:\n",
    "\n",
    "### $$а)\\,\\,\\, 0.(216);$$\n",
    "\n",
    "### $$б)\\,\\,\\, 1.0(01).$$"
   ]
  },
  {
   "cell_type": "markdown",
   "metadata": {},
   "source": [
    "а) $$a = 0.(216)$$\n",
    "\n",
    "$$1000a = 216.(216)$$\n",
    "\n",
    "$$1000a = 216 + 0.(216)$$\n",
    "\n",
    "$$1000a = 216 + a$$\n",
    "\n",
    "$$999a = 216$$\n",
    "\n",
    "$$a = \\frac{216}{999} = \\frac{24}{111} = \\frac{8}{37}$$\n",
    "\n",
    "$$0.(216) = \\frac{8}{37}$$"
   ]
  },
  {
   "cell_type": "markdown",
   "metadata": {},
   "source": [
    "б) $$b = 1.0(01)$$\n",
    "\n",
    "$$100b = 10.(01)$$\n",
    "\n",
    "$$100b = 10 + 0.(01)$$\n",
    "\n",
    "$$c = 0.(01)$$\n",
    "\n",
    "$$100c = 1.(01)$$\n",
    "\n",
    "$$100c = 1 + 0.(01)$$\n",
    "\n",
    "$$100c = 1 + c$$\n",
    "\n",
    "$$99c = 1$$\n",
    "\n",
    "$$c = \\frac{1}{99}$$\n",
    "\n",
    "$$0.(01) = \\frac{1}{99}$$\n",
    "\n",
    "$$100b = 10 + \\frac{1}{99}$$\n",
    "\n",
    "$$b = \\frac{990 + 1}{990} = \\frac{991}{990}$$\n",
    "\n",
    "$$1.0(01) = \\frac{991}{990}$$"
   ]
  },
  {
   "cell_type": "code",
   "execution_count": 1,
   "metadata": {},
   "outputs": [
    {
     "name": "stdout",
     "output_type": "stream",
     "text": [
      "0.21621621621621623\n",
      "1.001010101010101\n"
     ]
    }
   ],
   "source": [
    "print(8/37)\n",
    "print(991/990)"
   ]
  },
  {
   "cell_type": "code",
   "execution_count": null,
   "metadata": {},
   "outputs": [],
   "source": []
  }
 ],
 "metadata": {
  "kernelspec": {
   "display_name": "Python 3",
   "language": "python",
   "name": "python3"
  },
  "language_info": {
   "codemirror_mode": {
    "name": "ipython",
    "version": 3
   },
   "file_extension": ".py",
   "mimetype": "text/x-python",
   "name": "python",
   "nbconvert_exporter": "python",
   "pygments_lexer": "ipython3",
   "version": "3.8.5"
  }
 },
 "nbformat": 4,
 "nbformat_minor": 4
}
