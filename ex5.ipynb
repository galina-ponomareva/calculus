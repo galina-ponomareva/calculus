{
 "cells": [
  {
   "cell_type": "markdown",
   "metadata": {},
   "source": [
    "__5$^*$.__  Пользуясь критерием Коши, докажите расходимость последовательности:\n",
    "\n",
    "### $$b_n=1+\\frac{1}{2}+\\frac{1}{3}+..\\frac{1}{n}\\,\\,\\,\\,\\,\\Rightarrow$$\n",
    "\n",
    "### $$\\Bigl\\{b_n\\Bigr\\}_{n=1}^\\infty=\\Bigl\\{1, 1+\\frac{1}{2},1+\\frac{1}{2}+\\frac{1}{3}, ..., b_n,...\\Bigr\\}$$"
   ]
  },
  {
   "cell_type": "markdown",
   "metadata": {},
   "source": [
    "Докажем расходимость. Нам нужно, чтобы $|a_n-a_{n+k}|\\geq\\varepsilon$\n",
    "\n",
    "$$|a_n-a_{n+k}|=|a_{n+k}-a_n|=$$\n",
    "\n",
    "$$=\\Bigl|1+\\frac{1}{2}+...+\\frac{1}{n}+\\frac{1}{n+1}+...+\\frac{1}{n+k}-1-\\frac{1}{2}-...-\\frac{1}{n}\\Bigr|=\\Bigl|\\frac{1}{n+1}+...+\\frac{1}{n+k}\\Bigr|$$\n",
    "\n",
    "Пусть $k=n$, тогда сделаем оценку снизу\n",
    "\n",
    "$$\\Bigl|\\frac{1}{n+1}+...+\\frac{1}{n+k}\\Bigr|=\\Bigl|\\frac{1}{n+1}+...+\\frac{1}{n+n}\\Bigr|>n \\cdot \\frac{1}{n+n}=n \\cdot \\frac{1}{2n}=\\frac{1}{2}=\\varepsilon$$\n",
    "\n",
    "Таким образом, существуют такие $\\varepsilon=\\frac{1}{2}$ и $k=n$, что выполняется $|a_n-a_{n+k}|\\geq\\varepsilon$. Значит, последовательность расходится."
   ]
  },
  {
   "cell_type": "code",
   "execution_count": null,
   "metadata": {},
   "outputs": [],
   "source": []
  }
 ],
 "metadata": {
  "kernelspec": {
   "display_name": "Python 3",
   "language": "python",
   "name": "python3"
  },
  "language_info": {
   "codemirror_mode": {
    "name": "ipython",
    "version": 3
   },
   "file_extension": ".py",
   "mimetype": "text/x-python",
   "name": "python",
   "nbconvert_exporter": "python",
   "pygments_lexer": "ipython3",
   "version": "3.8.5"
  }
 },
 "nbformat": 4,
 "nbformat_minor": 4
}
