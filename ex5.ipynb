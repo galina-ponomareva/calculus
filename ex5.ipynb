{
 "cells": [
  {
   "cell_type": "markdown",
   "metadata": {},
   "source": [
    "__5*.__ Исследовать сходимость ряда\n",
    "\n",
    "### $$-\\frac{\\sqrt1}{101}+\\frac{\\sqrt2}{102}-\\,...\\,+\\frac{(-1)^n\\sqrt n}{n+100}+\\,...\\,=\\sum\\limits_{n=1}^{+\\infty}\\frac{(-1)^n\\sqrt n}{n+100}$$"
   ]
  },
  {
   "cell_type": "markdown",
   "metadata": {},
   "source": [
    "$$\\lim_{n\\to +\\infty}\\frac{\\sqrt n}{n+100}=0,$$\n",
    "\n",
    "однако члены ряда не убывают монотонно (возрастают до $n = 100$, потом убывают), поэтому запишем ряд в виде:\n",
    "\n",
    "$$\\sum\\limits_{n=1}^{+\\infty}\\frac{(-1)^n\\sqrt n}{n+100} = \\sum\\limits_{n=1}^{+\\infty}(-1)^n\\frac{n+100-100}{\\sqrt n \\cdot (n+100)} =$$\n",
    "\n",
    "$$= \\sum\\limits_{n=1}^{+\\infty}(-1)^n\\frac{n+100}{\\sqrt n \\cdot (n+100)} - \\sum\\limits_{n=1}^{+\\infty}(-1)^n\\frac{100}{\\sqrt n \\cdot (n+100)}=$$\n",
    "\n",
    "$$=\\sum\\limits_{n=1}^{+\\infty}(-1)^n\\frac{1}{\\sqrt n} - \\sum\\limits_{n=1}^{+\\infty}(-1)^n\\frac{100}{\\sqrt n \\cdot (n+100)}$$\n",
    "\n",
    "$\\sum\\limits_{n=1}^{+\\infty}(-1)^n\\frac{1}{\\sqrt n}$ сходится по признаку Лейбница, т.к. $\\lim_{n\\to +\\infty}\\frac{1}{\\sqrt n}=0$ и члены ряда убывают монотонно.\n",
    "\n",
    "$$\\sum\\limits_{n=1}^{+\\infty}\\frac{100}{\\sqrt n \\cdot (n+100)}\\,\\,\\,\\,\\,\\,\\sim\\,\\,\\,\\,\\,\\,O\\Bigr(\\frac{1}{n^{1.5}}\\Bigl),$$\n",
    "\n",
    "т.к. степень равна $1.5>1$, ряд сходится по второму признаку сравнения, значит $\\sum\\limits_{n=1}^{+\\infty}(-1)^n\\frac{100}{\\sqrt n \\cdot (n+100)}$ сходится абсолютно.\n",
    "\n",
    "Таким образом, исходный ряд можно представить в виде суммы сходящихся рядов, значит он сходится."
   ]
  },
  {
   "cell_type": "code",
   "execution_count": null,
   "metadata": {},
   "outputs": [],
   "source": []
  }
 ],
 "metadata": {
  "kernelspec": {
   "display_name": "Python 3",
   "language": "python",
   "name": "python3"
  },
  "language_info": {
   "codemirror_mode": {
    "name": "ipython",
    "version": 3
   },
   "file_extension": ".py",
   "mimetype": "text/x-python",
   "name": "python",
   "nbconvert_exporter": "python",
   "pygments_lexer": "ipython3",
   "version": "3.8.5"
  }
 },
 "nbformat": 4,
 "nbformat_minor": 4
}
